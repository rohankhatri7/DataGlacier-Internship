{
  "cells": [
    {
      "cell_type": "markdown",
      "metadata": {
        "id": "vAVZ-cYtwT9C"
      },
      "source": [
        "# **Efficient CSV Handling and Validation**\n",
        "This notebook explores efficient methods to handle large CSV files (2+ GB) using differnt methods of file reading. In addition, their computational efficiency will be compared, the data is cleaned, will be validated against a predefined schema in YAML format, and finally save the processed data in a compressed pipe-separated format.\n",
        "\n",
        "---\n",
        "\n",
        "## **Steps Overview**\n",
        "\n",
        "1. **Read the File:**\n",
        "   - Explore methods to read a large file using different libraries.\n",
        "2. **Column Validation:**\n",
        "   - Perform basic cleaning of column names (remove special characters, whitespaces).\n",
        "3. **Schema Validation:**\n",
        "   - Validate the ingested file's structure and column names against a YAML schema.\n",
        "4. **Write Processed File:**\n",
        "   - Save the processed file as a pipe-separated `.gz` file.\n",
        "5. **Summary Report:**\n",
        "   - Generate a report with the following:\n",
        "     - Total number of rows\n",
        "     - Total number of columns\n",
        "     - File size\n",
        "---\n"
      ]
    },
    {
      "cell_type": "code",
      "execution_count": null,
      "metadata": {
        "id": "htvc2c_ViGzv"
      },
      "outputs": [],
      "source": [
        "import pandas as pd\n",
        "import random\n",
        "import string\n",
        "\n",
        "num_rows = 50_000_000\n",
        "output_file_path = \"foods_large.csv\"\n",
        "\n",
        "# Generate random file\n",
        "def random_string(length):\n",
        "    return ''.join(random.choices(string.ascii_letters, k=length))\n",
        "\n",
        "categories = [\"Fruit\", \"Vegetable\", \"Meat\", \"Dairy\", \"Grain\", \"Seafood\", \"Confectionery\", \"Beverage\"]\n",
        "cuisines = [\"Italian\", \"Mexican\", \"Indian\", \"American\", \"Chinese\", \"French\", \"Japanese\"]\n",
        "units = [\"USD\", \"EUR\", \"GBP\"]\n",
        "\n",
        "data = {\n",
        "    \"FoodID\": [i for i in range(1, num_rows + 1)],\n",
        "    \"Name\": [random_string(8) for _ in range(num_rows)],\n",
        "    \"Category\": [random.choice(categories) for _ in range(num_rows)],\n",
        "    \"Cuisine\": [random.choice(cuisines) for _ in range(num_rows)],\n",
        "    \"Calories\": [random.randint(50, 1000) for _ in range(num_rows)],\n",
        "    \"IsVegetarian\": [random.choice([True, False]) for _ in range(num_rows)],\n",
        "    \"Price\": [round(random.uniform(1.0, 50.0), 2) for _ in range(num_rows)],\n",
        "    \"Currency\": [random.choice(units) for _ in range(num_rows)],\n",
        "    \"Rating\": [round(random.uniform(1.0, 5.0), 1) for _ in range(num_rows)]\n",
        "}\n",
        "\n",
        "df = pd.DataFrame(data)\n",
        "df.to_csv(output_file_path, index=False)\n"
      ]
    },
    {
      "cell_type": "markdown",
      "metadata": {},
      "source": [
        "Reading with Pandas"
      ]
    },
    {
      "cell_type": "code",
      "execution_count": 64,
      "metadata": {},
      "outputs": [
        {
          "name": "stdout",
          "output_type": "stream",
          "text": [
            "Pandas read time: 51.61 seconds\n"
          ]
        }
      ],
      "source": [
        "import yaml\n",
        "import os\n",
        "import time\n",
        "\n",
        "# Read file using Pandas\n",
        "start_time = time.time()\n",
        "pandas_df = pd.read_csv('/Users/rohankhatri/Desktop/foods_large.csv')\n",
        "pandas_read_time = time.time() - start_time\n",
        "print(f\"Pandas read time: {pandas_read_time:.2f} seconds\")\n",
        "\n",
        "#validation\n",
        "def validate_pandas_data(dataframe, schema):\n",
        "    # number of columns\n",
        "    assert len(dataframe.columns) == len(schema[\"columns\"]), f\"Column count mismatch: Expected {len(schema['columns'])}, Got {len(dataframe.columns)}\"\n",
        "    \n",
        "    # column names\n",
        "    cleaned_columns = (\n",
        "        dataframe.columns.str.replace('[^a-zA-Z0-9]', '', regex=True)\n",
        "        .str.replace(' ', '_')\n",
        "        .str.lower()\n",
        "    )\n",
        "    expected_columns = [col.lower() for col in schema[\"columns\"]]\n",
        "    assert list(cleaned_columns) == expected_columns, f\"Column names mismatch: Expected {expected_columns}, Got {list(cleaned_columns)}\"\n",
        "    print(\"Pandas data validation successful!\")\n"
      ]
    },
    {
      "cell_type": "markdown",
      "metadata": {},
      "source": [
        "Reading with Ray"
      ]
    },
    {
      "cell_type": "code",
      "execution_count": 42,
      "metadata": {},
      "outputs": [
        {
          "name": "stdout",
          "output_type": "stream",
          "text": [
            "Requirement already satisfied: ray[default] in /Library/Frameworks/Python.framework/Versions/3.12/lib/python3.12/site-packages (2.40.0)\n",
            "Requirement already satisfied: click>=7.0 in /Library/Frameworks/Python.framework/Versions/3.12/lib/python3.12/site-packages (from ray[default]) (8.1.7)\n",
            "Requirement already satisfied: filelock in /Library/Frameworks/Python.framework/Versions/3.12/lib/python3.12/site-packages (from ray[default]) (3.16.1)\n",
            "Requirement already satisfied: jsonschema in /Library/Frameworks/Python.framework/Versions/3.12/lib/python3.12/site-packages (from ray[default]) (4.23.0)\n",
            "Requirement already satisfied: msgpack<2.0.0,>=1.0.0 in /Library/Frameworks/Python.framework/Versions/3.12/lib/python3.12/site-packages (from ray[default]) (1.1.0)\n",
            "Requirement already satisfied: packaging in /Library/Frameworks/Python.framework/Versions/3.12/lib/python3.12/site-packages (from ray[default]) (24.1)\n",
            "Requirement already satisfied: protobuf!=3.19.5,>=3.15.3 in /Library/Frameworks/Python.framework/Versions/3.12/lib/python3.12/site-packages (from ray[default]) (5.29.1)\n",
            "Requirement already satisfied: pyyaml in /Library/Frameworks/Python.framework/Versions/3.12/lib/python3.12/site-packages (from ray[default]) (6.0.2)\n",
            "Requirement already satisfied: aiosignal in /Library/Frameworks/Python.framework/Versions/3.12/lib/python3.12/site-packages (from ray[default]) (1.3.1)\n",
            "Requirement already satisfied: frozenlist in /Library/Frameworks/Python.framework/Versions/3.12/lib/python3.12/site-packages (from ray[default]) (1.5.0)\n",
            "Requirement already satisfied: requests in /Library/Frameworks/Python.framework/Versions/3.12/lib/python3.12/site-packages (from ray[default]) (2.32.3)\n",
            "Requirement already satisfied: aiohttp>=3.7 in /Library/Frameworks/Python.framework/Versions/3.12/lib/python3.12/site-packages (from ray[default]) (3.11.10)\n",
            "Requirement already satisfied: aiohttp-cors in /Library/Frameworks/Python.framework/Versions/3.12/lib/python3.12/site-packages (from ray[default]) (0.7.0)\n",
            "Requirement already satisfied: colorful in /Library/Frameworks/Python.framework/Versions/3.12/lib/python3.12/site-packages (from ray[default]) (0.5.6)\n",
            "Requirement already satisfied: py-spy>=0.2.0 in /Library/Frameworks/Python.framework/Versions/3.12/lib/python3.12/site-packages (from ray[default]) (0.4.0)\n",
            "Requirement already satisfied: opencensus in /Library/Frameworks/Python.framework/Versions/3.12/lib/python3.12/site-packages (from ray[default]) (0.11.4)\n",
            "Requirement already satisfied: pydantic!=2.0.*,!=2.1.*,!=2.2.*,!=2.3.*,!=2.4.*,<3 in /Library/Frameworks/Python.framework/Versions/3.12/lib/python3.12/site-packages (from ray[default]) (2.10.3)\n",
            "Requirement already satisfied: prometheus-client>=0.7.1 in /Library/Frameworks/Python.framework/Versions/3.12/lib/python3.12/site-packages (from ray[default]) (0.21.1)\n",
            "Requirement already satisfied: smart-open in /Library/Frameworks/Python.framework/Versions/3.12/lib/python3.12/site-packages (from ray[default]) (7.0.5)\n",
            "Requirement already satisfied: virtualenv!=20.21.1,>=20.0.24 in /Library/Frameworks/Python.framework/Versions/3.12/lib/python3.12/site-packages (from ray[default]) (20.28.0)\n",
            "Requirement already satisfied: grpcio>=1.42.0 in /Library/Frameworks/Python.framework/Versions/3.12/lib/python3.12/site-packages (from ray[default]) (1.68.1)\n",
            "Requirement already satisfied: memray in /Library/Frameworks/Python.framework/Versions/3.12/lib/python3.12/site-packages (from ray[default]) (1.15.0)\n",
            "Requirement already satisfied: aiohappyeyeballs>=2.3.0 in /Library/Frameworks/Python.framework/Versions/3.12/lib/python3.12/site-packages (from aiohttp>=3.7->ray[default]) (2.4.4)\n",
            "Requirement already satisfied: attrs>=17.3.0 in /Library/Frameworks/Python.framework/Versions/3.12/lib/python3.12/site-packages (from aiohttp>=3.7->ray[default]) (24.2.0)\n",
            "Requirement already satisfied: multidict<7.0,>=4.5 in /Library/Frameworks/Python.framework/Versions/3.12/lib/python3.12/site-packages (from aiohttp>=3.7->ray[default]) (6.1.0)\n",
            "Requirement already satisfied: propcache>=0.2.0 in /Library/Frameworks/Python.framework/Versions/3.12/lib/python3.12/site-packages (from aiohttp>=3.7->ray[default]) (0.2.1)\n",
            "Requirement already satisfied: yarl<2.0,>=1.17.0 in /Library/Frameworks/Python.framework/Versions/3.12/lib/python3.12/site-packages (from aiohttp>=3.7->ray[default]) (1.18.3)\n",
            "Requirement already satisfied: annotated-types>=0.6.0 in /Library/Frameworks/Python.framework/Versions/3.12/lib/python3.12/site-packages (from pydantic!=2.0.*,!=2.1.*,!=2.2.*,!=2.3.*,!=2.4.*,<3->ray[default]) (0.7.0)\n",
            "Requirement already satisfied: pydantic-core==2.27.1 in /Library/Frameworks/Python.framework/Versions/3.12/lib/python3.12/site-packages (from pydantic!=2.0.*,!=2.1.*,!=2.2.*,!=2.3.*,!=2.4.*,<3->ray[default]) (2.27.1)\n",
            "Requirement already satisfied: typing-extensions>=4.12.2 in /Library/Frameworks/Python.framework/Versions/3.12/lib/python3.12/site-packages (from pydantic!=2.0.*,!=2.1.*,!=2.2.*,!=2.3.*,!=2.4.*,<3->ray[default]) (4.12.2)\n",
            "Requirement already satisfied: distlib<1,>=0.3.7 in /Library/Frameworks/Python.framework/Versions/3.12/lib/python3.12/site-packages (from virtualenv!=20.21.1,>=20.0.24->ray[default]) (0.3.9)\n",
            "Requirement already satisfied: platformdirs<5,>=3.9.1 in /Library/Frameworks/Python.framework/Versions/3.12/lib/python3.12/site-packages (from virtualenv!=20.21.1,>=20.0.24->ray[default]) (4.3.6)\n",
            "Requirement already satisfied: jsonschema-specifications>=2023.03.6 in /Library/Frameworks/Python.framework/Versions/3.12/lib/python3.12/site-packages (from jsonschema->ray[default]) (2024.10.1)\n",
            "Requirement already satisfied: referencing>=0.28.4 in /Library/Frameworks/Python.framework/Versions/3.12/lib/python3.12/site-packages (from jsonschema->ray[default]) (0.35.1)\n",
            "Requirement already satisfied: rpds-py>=0.7.1 in /Library/Frameworks/Python.framework/Versions/3.12/lib/python3.12/site-packages (from jsonschema->ray[default]) (0.22.3)\n",
            "Requirement already satisfied: jinja2>=2.9 in /Library/Frameworks/Python.framework/Versions/3.12/lib/python3.12/site-packages (from memray->ray[default]) (3.1.4)\n",
            "Requirement already satisfied: rich>=11.2.0 in /Library/Frameworks/Python.framework/Versions/3.12/lib/python3.12/site-packages (from memray->ray[default]) (13.9.4)\n",
            "Requirement already satisfied: textual>=0.41.0 in /Library/Frameworks/Python.framework/Versions/3.12/lib/python3.12/site-packages (from memray->ray[default]) (0.89.1)\n",
            "Requirement already satisfied: opencensus-context>=0.1.3 in /Library/Frameworks/Python.framework/Versions/3.12/lib/python3.12/site-packages (from opencensus->ray[default]) (0.1.3)\n",
            "Requirement already satisfied: six~=1.16 in /Library/Frameworks/Python.framework/Versions/3.12/lib/python3.12/site-packages (from opencensus->ray[default]) (1.16.0)\n",
            "Requirement already satisfied: google-api-core<3.0.0,>=1.0.0 in /Library/Frameworks/Python.framework/Versions/3.12/lib/python3.12/site-packages (from opencensus->ray[default]) (2.24.0)\n",
            "Requirement already satisfied: charset-normalizer<4,>=2 in /Library/Frameworks/Python.framework/Versions/3.12/lib/python3.12/site-packages (from requests->ray[default]) (3.4.0)\n",
            "Requirement already satisfied: idna<4,>=2.5 in /Library/Frameworks/Python.framework/Versions/3.12/lib/python3.12/site-packages (from requests->ray[default]) (3.10)\n",
            "Requirement already satisfied: urllib3<3,>=1.21.1 in /Library/Frameworks/Python.framework/Versions/3.12/lib/python3.12/site-packages (from requests->ray[default]) (2.2.3)\n",
            "Requirement already satisfied: certifi>=2017.4.17 in /Library/Frameworks/Python.framework/Versions/3.12/lib/python3.12/site-packages (from requests->ray[default]) (2024.8.30)\n",
            "Requirement already satisfied: wrapt in /Library/Frameworks/Python.framework/Versions/3.12/lib/python3.12/site-packages (from smart-open->ray[default]) (1.17.0)\n",
            "Requirement already satisfied: googleapis-common-protos<2.0.dev0,>=1.56.2 in /Library/Frameworks/Python.framework/Versions/3.12/lib/python3.12/site-packages (from google-api-core<3.0.0,>=1.0.0->opencensus->ray[default]) (1.66.0)\n",
            "Requirement already satisfied: proto-plus<2.0.0dev,>=1.22.3 in /Library/Frameworks/Python.framework/Versions/3.12/lib/python3.12/site-packages (from google-api-core<3.0.0,>=1.0.0->opencensus->ray[default]) (1.25.0)\n",
            "Requirement already satisfied: google-auth<3.0.dev0,>=2.14.1 in /Library/Frameworks/Python.framework/Versions/3.12/lib/python3.12/site-packages (from google-api-core<3.0.0,>=1.0.0->opencensus->ray[default]) (2.37.0)\n",
            "Requirement already satisfied: MarkupSafe>=2.0 in /Library/Frameworks/Python.framework/Versions/3.12/lib/python3.12/site-packages (from jinja2>=2.9->memray->ray[default]) (3.0.2)\n",
            "Requirement already satisfied: markdown-it-py>=2.2.0 in /Library/Frameworks/Python.framework/Versions/3.12/lib/python3.12/site-packages (from rich>=11.2.0->memray->ray[default]) (3.0.0)\n",
            "Requirement already satisfied: pygments<3.0.0,>=2.13.0 in /Library/Frameworks/Python.framework/Versions/3.12/lib/python3.12/site-packages (from rich>=11.2.0->memray->ray[default]) (2.18.0)\n",
            "Requirement already satisfied: cachetools<6.0,>=2.0.0 in /Library/Frameworks/Python.framework/Versions/3.12/lib/python3.12/site-packages (from google-auth<3.0.dev0,>=2.14.1->google-api-core<3.0.0,>=1.0.0->opencensus->ray[default]) (5.5.0)\n",
            "Requirement already satisfied: pyasn1-modules>=0.2.1 in /Library/Frameworks/Python.framework/Versions/3.12/lib/python3.12/site-packages (from google-auth<3.0.dev0,>=2.14.1->google-api-core<3.0.0,>=1.0.0->opencensus->ray[default]) (0.4.1)\n",
            "Requirement already satisfied: rsa<5,>=3.1.4 in /Library/Frameworks/Python.framework/Versions/3.12/lib/python3.12/site-packages (from google-auth<3.0.dev0,>=2.14.1->google-api-core<3.0.0,>=1.0.0->opencensus->ray[default]) (4.9)\n",
            "Requirement already satisfied: mdurl~=0.1 in /Library/Frameworks/Python.framework/Versions/3.12/lib/python3.12/site-packages (from markdown-it-py>=2.2.0->rich>=11.2.0->memray->ray[default]) (0.1.2)\n",
            "Requirement already satisfied: linkify-it-py<3,>=1 in /Library/Frameworks/Python.framework/Versions/3.12/lib/python3.12/site-packages (from markdown-it-py[linkify,plugins]>=2.1.0->textual>=0.41.0->memray->ray[default]) (2.0.3)\n",
            "Requirement already satisfied: mdit-py-plugins in /Library/Frameworks/Python.framework/Versions/3.12/lib/python3.12/site-packages (from markdown-it-py[linkify,plugins]>=2.1.0->textual>=0.41.0->memray->ray[default]) (0.4.2)\n",
            "Requirement already satisfied: uc-micro-py in /Library/Frameworks/Python.framework/Versions/3.12/lib/python3.12/site-packages (from linkify-it-py<3,>=1->markdown-it-py[linkify,plugins]>=2.1.0->textual>=0.41.0->memray->ray[default]) (1.0.3)\n",
            "Requirement already satisfied: pyasn1<0.7.0,>=0.4.6 in /Library/Frameworks/Python.framework/Versions/3.12/lib/python3.12/site-packages (from pyasn1-modules>=0.2.1->google-auth<3.0.dev0,>=2.14.1->google-api-core<3.0.0,>=1.0.0->opencensus->ray[default]) (0.6.1)\n",
            "Note: you may need to restart the kernel to use updated packages.\n"
          ]
        }
      ],
      "source": [
        "pip install -U \"ray[default]\""
      ]
    },
    {
      "cell_type": "code",
      "execution_count": 46,
      "metadata": {},
      "outputs": [
        {
          "name": "stderr",
          "output_type": "stream",
          "text": [
            "2024-12-11 20:46:06,001\tINFO worker.py:1812 -- Started a local Ray instance. View the dashboard at \u001b[1m\u001b[32mhttp://127.0.0.1:8265 \u001b[39m\u001b[22m\n"
          ]
        },
        {
          "name": "stdout",
          "output_type": "stream",
          "text": [
            "Ray read time: 40.94 seconds\n"
          ]
        }
      ],
      "source": [
        "import ray\n",
        "\n",
        "ray.shutdown()\n",
        "ray.init()\n",
        "\n",
        "#read using ray\n",
        "start_time = time.time()\n",
        "ray_df = pd.read_csv('/Users/rohankhatri/Desktop/foods_large.csv')\n",
        "ray_read_time = time.time() - start_time\n",
        "print(f\"Ray read time: {ray_read_time:.2f} seconds\")\n"
      ]
    },
    {
      "cell_type": "markdown",
      "metadata": {},
      "source": [
        "Reading with Dask"
      ]
    },
    {
      "cell_type": "code",
      "execution_count": 38,
      "metadata": {},
      "outputs": [
        {
          "name": "stdout",
          "output_type": "stream",
          "text": [
            "Requirement already satisfied: dask in /Library/Frameworks/Python.framework/Versions/3.12/lib/python3.12/site-packages (2024.12.0)\n",
            "Requirement already satisfied: click>=8.1 in /Library/Frameworks/Python.framework/Versions/3.12/lib/python3.12/site-packages (from dask) (8.1.7)\n",
            "Requirement already satisfied: cloudpickle>=3.0.0 in /Library/Frameworks/Python.framework/Versions/3.12/lib/python3.12/site-packages (from dask) (3.1.0)\n",
            "Requirement already satisfied: fsspec>=2021.09.0 in /Library/Frameworks/Python.framework/Versions/3.12/lib/python3.12/site-packages (from dask) (2024.10.0)\n",
            "Requirement already satisfied: packaging>=20.0 in /Library/Frameworks/Python.framework/Versions/3.12/lib/python3.12/site-packages (from dask) (24.1)\n",
            "Requirement already satisfied: partd>=1.4.0 in /Library/Frameworks/Python.framework/Versions/3.12/lib/python3.12/site-packages (from dask) (1.4.2)\n",
            "Requirement already satisfied: pyyaml>=5.3.1 in /Library/Frameworks/Python.framework/Versions/3.12/lib/python3.12/site-packages (from dask) (6.0.2)\n",
            "Requirement already satisfied: toolz>=0.10.0 in /Library/Frameworks/Python.framework/Versions/3.12/lib/python3.12/site-packages (from dask) (1.0.0)\n",
            "Requirement already satisfied: locket in /Library/Frameworks/Python.framework/Versions/3.12/lib/python3.12/site-packages (from partd>=1.4.0->dask) (1.0.0)\n",
            "Note: you may need to restart the kernel to use updated packages.\n"
          ]
        }
      ],
      "source": [
        "pip install dask"
      ]
    },
    {
      "cell_type": "code",
      "execution_count": 40,
      "metadata": {},
      "outputs": [
        {
          "name": "stdout",
          "output_type": "stream",
          "text": [
            "zsh:1: no matches found: dask[dataframe]\n",
            "Note: you may need to restart the kernel to use updated packages.\n"
          ]
        }
      ],
      "source": [
        "pip install dask[dataframe]"
      ]
    },
    {
      "cell_type": "code",
      "execution_count": 41,
      "metadata": {},
      "outputs": [
        {
          "name": "stdout",
          "output_type": "stream",
          "text": [
            "Dask read time: 0.02 seconds\n"
          ]
        }
      ],
      "source": [
        "import dask.dataframe as dd\n",
        "\n",
        "# read using dask\n",
        "start_time = time.time()\n",
        "dask_data = dd.read_csv(\"/Users/rohankhatri/Desktop/foods_large.csv\")\n",
        "dask_read_time = time.time() - start_time\n",
        "print(f\"Dask read time: {dask_read_time:.2f} seconds\")"
      ]
    },
    {
      "cell_type": "code",
      "execution_count": 65,
      "metadata": {},
      "outputs": [
        {
          "name": "stderr",
          "output_type": "stream",
          "text": [
            "/var/folders/x_/51kx78hn7lvb3yzy_1mpmx880000gn/T/ipykernel_5897/3365447940.py:18: FutureWarning: \n",
            "\n",
            "Passing `palette` without assigning `hue` is deprecated and will be removed in v0.14.0. Assign the `x` variable to `hue` and set `legend=False` for the same effect.\n",
            "\n",
            "  sns.barplot(x=\"Library\", y=\"Time (seconds)\", data=timing_df, palette=colors)\n"
          ]
        },
        {
          "data": {
            "image/png": "[encoded data removed]",
            "text/plain": [
              "<Figure size 800x600 with 1 Axes>"
            ]
          },
          "metadata": {},
          "output_type": "display_data"
        }
      ],
      "source": [
        "import matplotlib.pyplot as plt\n",
        "import seaborn as sns\n",
        "\n",
        "# Data: Timing results for Ray, Pandas, and Dask (replace these values with actual results)\n",
        "timing_data = {\n",
        "    \"Library\": [\"Ray\", \"Pandas\", \"Dask\"],\n",
        "    \"Time (seconds)\": [10.34, 12.45, 9.67]  # Example values\n",
        "}\n",
        "\n",
        "# Convert the data to a DataFrame\n",
        "timing_df = pd.DataFrame(timing_data)\n",
        "\n",
        "# Custom colors for the bars\n",
        "colors = ['#1f77b4', '#ff7f0e', '#2ca02c']  # Blue, Orange, Green\n",
        "\n",
        "# Create the bar chart\n",
        "plt.figure(figsize=(8, 6))\n",
        "sns.barplot(x=\"Library\", y=\"Time (seconds)\", data=timing_df, palette=colors)\n",
        "\n",
        "# Customize the chart\n",
        "plt.title(\"Comparison of File Read Times (Ray vs Pandas vs Dask)\", fontsize=14)\n",
        "plt.xlabel(\"Library\", fontsize=12)\n",
        "plt.ylabel(\"Time (seconds)\", fontsize=12)\n",
        "plt.xticks(fontsize=10)\n",
        "plt.yticks(fontsize=10)\n",
        "\n",
        "# Show the chart\n",
        "plt.tight_layout()\n",
        "plt.show()\n"
      ]
    },
    {
      "cell_type": "markdown",
      "metadata": {},
      "source": [
        "Creating the utility file"
      ]
    },
    {
      "cell_type": "code",
      "execution_count": 49,
      "metadata": {},
      "outputs": [],
      "source": [
        "import yaml\n",
        "import logging\n",
        "import os\n",
        "import subprocess\n",
        "import yaml\n",
        "import pandas as pd\n",
        "import datetime \n",
        "import gc\n",
        "import re"
      ]
    },
    {
      "cell_type": "code",
      "execution_count": 50,
      "metadata": {},
      "outputs": [
        {
          "name": "stdout",
          "output_type": "stream",
          "text": [
            "Requirement already satisfied: PyYAML in /Library/Frameworks/Python.framework/Versions/3.12/lib/python3.12/site-packages (6.0.2)\n",
            "Note: you may need to restart the kernel to use updated packages.\n"
          ]
        }
      ],
      "source": [
        "pip install PyYAML"
      ]
    },
    {
      "cell_type": "code",
      "execution_count": 66,
      "metadata": {},
      "outputs": [],
      "source": [
        "import yaml\n",
        "\n",
        "def write_yaml_schema(file_config, yaml_file_path):\n",
        "\n",
        "    with open(yaml_file_path, \"w\") as file:\n",
        "        yaml.dump(file_config, file)\n",
        "    print(f\"Schema written to {yaml_file_path}\")\n",
        "\n",
        "def validate_schema(dataframe, yaml_file_path):\n",
        "\n",
        "    with open(yaml_file_path, \"r\") as file:\n",
        "        loaded_schema = yaml.safe_load(file)\n",
        "    assert list(dataframe.columns) == loaded_schema[\"columns\"], \"Column names do not match schema!\"\n",
        "    print(\"Schema validation successful!\")\n"
      ]
    },
    {
      "cell_type": "code",
      "execution_count": 59,
      "metadata": {},
      "outputs": [
        {
          "name": "stdout",
          "output_type": "stream",
          "text": [
            "Cleaned column names: ['foodid', 'name', 'category', 'cuisine', 'calories', 'isvegetarian', 'price', 'currency', 'rating']\n"
          ]
        }
      ],
      "source": [
        "# Function to clean column names\n",
        "def clean_column_names(df):\n",
        "    df.columns = (\n",
        "        df.columns.str.replace('[^a-zA-Z0-9]', '', regex=True)\n",
        "        .str.replace(' ', '_')\n",
        "        .str.lower()\n",
        "    )\n",
        "    return df\n",
        "\n",
        "# Clean column names\n",
        "data = clean_column_names(data)\n",
        "print(\"Cleaned column names:\", data.columns.tolist())\n"
      ]
    },
    {
      "cell_type": "code",
      "execution_count": 78,
      "metadata": {},
      "outputs": [
        {
          "name": "stdout",
          "output_type": "stream",
          "text": [
            "Schema written to schema.yaml\n",
            "Schema validation successful!\n"
          ]
        }
      ],
      "source": [
        "file_config = {\n",
        "    \"file_type\": \"csv\",\n",
        "    \"dataset_name\": \"file\",\n",
        "    \"file_name\": \"/Users/rohankhatri/Desktop/foods_large.csv\",\n",
        "    \"table_name\": \"edsurv\",\n",
        "    \"outbound_delimiter\": \"|\",\n",
        "    \"skip_leading_rows\": 1,\n",
        "    \"separator\": \",\",\n",
        "    \"columns\": [\n",
        "        \"FoodID\",\n",
        "        \"Name\",\n",
        "        \"Category\",\n",
        "        \"Cuisine\",\n",
        "        \"Calories\",\n",
        "        \"IsVegetarian\",\n",
        "        \"Price\",\n",
        "        \"Currency\",\n",
        "        \"Rating\"\n",
        "    ]\n",
        "}\n",
        "\n",
        "yaml_file_path = \"schema.yaml\"\n",
        "\n",
        "# write YAML file\n",
        "def write_yaml_schema(file_config, yaml_file_path):\n",
        "    with open(yaml_file_path, \"w\") as file:\n",
        "        yaml.dump(file_config, file)\n",
        "    print(f\"Schema written to {yaml_file_path}\")\n",
        "\n",
        "# write schema\n",
        "write_yaml_schema(file_config, yaml_file_path)\n",
        "\n",
        "# validate\n",
        "def validate_schema(dataframe, yaml_file_path):\n",
        "    with open(yaml_file_path, \"r\") as file:\n",
        "        loaded_schema = yaml.safe_load(file)\n",
        "    assert list(dataframe.columns) == loaded_schema[\"columns\"], \"Column names do not match schema!\"\n",
        "    print(\"Schema validation successful!\")\n",
        "\n",
        "validate_schema(pandas_df, yaml_file_path)\n"
      ]
    },
    {
      "cell_type": "code",
      "execution_count": 77,
      "metadata": {},
      "outputs": [],
      "source": [
        "def replacer(string, char):\n",
        "    pattern = char + '{2,}'\n",
        "    return re.sub(pattern, char, string)\n",
        "\n",
        "def col_header_val(df, table_config):\n",
        "    df.columns = df.columns.str.lower()\n",
        "\n",
        "    df.columns = df.columns.str.replace(r'[^\\w]', '_', regex=True)\n",
        "    df.columns = list(map(lambda x: x.strip('_'), list(df.columns)))\n",
        "    df.columns = list(map(lambda x: replacer(x, '_'), list(df.columns)))\n",
        "    expected_col = list(map(lambda x: x.lower(), table_config[\"columns\"]))\n",
        "    expected_col.sort()\n",
        "    df.columns = list(map(lambda x: x.lower(), list(df.columns)))\n",
        "    df = df.reindex(sorted(df.columns), axis=1)\n",
        "    if len(df.columns) == len(expected_col) and list(expected_col) == list(df.columns):\n",
        "        print(\"Column name and length validation passed\")\n",
        "        return 1\n",
        "    else:\n",
        "        print(\"Column name and length validation failed\")\n",
        "        mismatched_columns_file = list(set(df.columns).difference(expected_col))\n",
        "        print(\"Columns in file not in YAML:\", mismatched_columns_file)\n",
        "        missing_yaml_columns = list(set(expected_col).difference(df.columns))\n",
        "        print(\"Columns in YAML not in file:\", missing_yaml_columns)\n",
        "        return 0\n"
      ]
    },
    {
      "cell_type": "code",
      "execution_count": 80,
      "metadata": {},
      "outputs": [
        {
          "name": "stdout",
          "output_type": "stream",
          "text": [
            "Processed file saved at foods_large_processed.gz\n"
          ]
        }
      ],
      "source": [
        "#Save in .gz format\n",
        "processed_file_path = \"foods_large_processed.gz\"\n",
        "pandas_df.to_csv(processed_file_path, sep=\"|\", index=False, compression=\"gzip\")\n",
        "print(f\"Processed file saved at {processed_file_path}\")\n"
      ]
    },
    {
      "cell_type": "code",
      "execution_count": 81,
      "metadata": {},
      "outputs": [
        {
          "name": "stdout",
          "output_type": "stream",
          "text": [
            "File Summary:\n",
            "Total Rows: 60000000\n",
            "Total Columns: 9\n",
            "File Size (MB): 1110.94\n"
          ]
        }
      ],
      "source": [
        "processed_file_path = \"foods_large_processed.gz\"\n",
        "data = pd.read_csv(processed_file_path, sep=\"|\", compression=\"gzip\")\n",
        "\n",
        "#generate summary\n",
        "def file_summary(file_path, dataframe):\n",
        "    file_size = os.path.getsize(file_path) / (1024 ** 2) \n",
        "    total_rows = len(dataframe)\n",
        "    total_columns = len(dataframe.columns)\n",
        "    summary = {\n",
        "        \"Total Rows\": total_rows,\n",
        "        \"Total Columns\": total_columns,\n",
        "        \"File Size (MB)\": round(file_size, 2),\n",
        "    }\n",
        "    return summary\n",
        "\n",
        "#print\n",
        "summary = file_summary(processed_file_path, data)\n",
        "\n",
        "#Output\n",
        "print(\"File Summary:\")\n",
        "for key, value in summary.items():\n",
        "    print(f\"{key}: {value}\")\n"
      ]
    }
  ],
  "metadata": {
    "colab": {
      "provenance": []
    },
    "kernelspec": {
      "display_name": "Python 3",
      "name": "python3"
    },
    "language_info": {
      "codemirror_mode": {
        "name": "ipython",
        "version": 3
      },
      "file_extension": ".py",
      "mimetype": "text/x-python",
      "name": "python",
      "nbconvert_exporter": "python",
      "pygments_lexer": "ipython3",
      "version": "3.12.6"
    }
  },
  "nbformat": 4,
  "nbformat_minor": 0
}
