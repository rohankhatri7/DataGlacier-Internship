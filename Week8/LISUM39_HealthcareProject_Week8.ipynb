{
  "nbformat": 4,
  "nbformat_minor": 0,
  "metadata": {
    "colab": {
      "provenance": []
    },
    "kernelspec": {
      "name": "python3",
      "display_name": "Python 3"
    },
    "language_info": {
      "name": "python"
    }
  },
  "cells": [
    {
      "cell_type": "markdown",
      "source": [
        "# Problem Description\n",
        "\n"
      ],
      "metadata": {
        "id": "vLo11jhOmt5s"
      }
    },
    {
      "cell_type": "markdown",
      "source": [
        "**Problem Statement:** One of the challenge for all Pharmaceutical companies is to understand the persistency of drug as per the physician prescription. To solve this problem ABC pharma company approached an analytics company to automate this process of identification."
      ],
      "metadata": {
        "id": "1ZZr-k-dmvxv"
      }
    },
    {
      "cell_type": "markdown",
      "source": [
        "# Importing all necessary libraries"
      ],
      "metadata": {
        "id": "LSV3-IfYmZvZ"
      }
    },
    {
      "cell_type": "code",
      "source": [
        "import numpy as np\n",
        "import pandas as pd\n",
        "import seaborn as sns\n",
        "import matplotlib.pyplot as plt"
      ],
      "metadata": {
        "id": "AgIMb9ITXzeB"
      },
      "execution_count": null,
      "outputs": []
    },
    {
      "cell_type": "markdown",
      "source": [
        "# Loading dataset"
      ],
      "metadata": {
        "id": "7LAYDmg2mlIt"
      }
    },
    {
      "cell_type": "code",
      "source": [
        "# change to name of file\n",
        "file_name = \"dataglacierdataset.csv\"\n",
        "df = pd.read_csv(file_name)"
      ],
      "metadata": {
        "id": "Ulp2ti4kX6FC"
      },
      "execution_count": null,
      "outputs": []
    },
    {
      "cell_type": "markdown",
      "source": [
        "# Data Understanding"
      ],
      "metadata": {
        "id": "YYwlg_Fumq_B"
      }
    },
    {
      "cell_type": "code",
      "source": [
        "df.shape"
      ],
      "metadata": {
        "colab": {
          "base_uri": "https://localhost:8080/"
        },
        "id": "nSHA2tcEYfS4",
        "outputId": "e211c556-3be8-4d60-c0fa-c3913d3e7b91"
      },
      "execution_count": null,
      "outputs": [
        {
          "output_type": "execute_result",
          "data": {
            "text/plain": [
              "(3424, 69)"
            ]
          },
          "metadata": {},
          "execution_count": 3
        }
      ]
    },
    {
      "cell_type": "code",
      "source": [
        "df.info()"
      ],
      "metadata": {
        "colab": {
          "base_uri": "https://localhost:8080/"
        },
        "id": "Yz28mN2FYCKG",
        "outputId": "8b95bdc6-9580-4fb6-824d-43c280338273"
      },
      "execution_count": null,
      "outputs": [
        {
          "output_type": "stream",
          "name": "stdout",
          "text": [
            "<class 'pandas.core.frame.DataFrame'>\n",
            "RangeIndex: 3424 entries, 0 to 3423\n",
            "Data columns (total 69 columns):\n",
            " #   Column                                                              Non-Null Count  Dtype \n",
            "---  ------                                                              --------------  ----- \n",
            " 0   Ptid                                                                3424 non-null   object\n",
            " 1   Persistency_Flag                                                    3424 non-null   object\n",
            " 2   Gender                                                              3424 non-null   object\n",
            " 3   Race                                                                3424 non-null   object\n",
            " 4   Ethnicity                                                           3424 non-null   object\n",
            " 5   Region                                                              3424 non-null   object\n",
            " 6   Age_Bucket                                                          3424 non-null   object\n",
            " 7   Ntm_Speciality                                                      3424 non-null   object\n",
            " 8   Ntm_Specialist_Flag                                                 3424 non-null   object\n",
            " 9   Ntm_Speciality_Bucket                                               3424 non-null   object\n",
            " 10  Gluco_Record_Prior_Ntm                                              3424 non-null   object\n",
            " 11  Gluco_Record_During_Rx                                              3424 non-null   object\n",
            " 12  Dexa_Freq_During_Rx                                                 3424 non-null   int64 \n",
            " 13  Dexa_During_Rx                                                      3424 non-null   object\n",
            " 14  Frag_Frac_Prior_Ntm                                                 3424 non-null   object\n",
            " 15  Frag_Frac_During_Rx                                                 3424 non-null   object\n",
            " 16  Risk_Segment_Prior_Ntm                                              3424 non-null   object\n",
            " 17  Tscore_Bucket_Prior_Ntm                                             3424 non-null   object\n",
            " 18  Risk_Segment_During_Rx                                              3424 non-null   object\n",
            " 19  Tscore_Bucket_During_Rx                                             3424 non-null   object\n",
            " 20  Change_T_Score                                                      3424 non-null   object\n",
            " 21  Change_Risk_Segment                                                 3424 non-null   object\n",
            " 22  Adherent_Flag                                                       3424 non-null   object\n",
            " 23  Idn_Indicator                                                       3424 non-null   object\n",
            " 24  Injectable_Experience_During_Rx                                     3424 non-null   object\n",
            " 25  Comorb_Encounter_For_Screening_For_Malignant_Neoplasms              3424 non-null   object\n",
            " 26  Comorb_Encounter_For_Immunization                                   3424 non-null   object\n",
            " 27  Comorb_Encntr_For_General_Exam_W_O_Complaint,_Susp_Or_Reprtd_Dx     3424 non-null   object\n",
            " 28  Comorb_Vitamin_D_Deficiency                                         3424 non-null   object\n",
            " 29  Comorb_Other_Joint_Disorder_Not_Elsewhere_Classified                3424 non-null   object\n",
            " 30  Comorb_Encntr_For_Oth_Sp_Exam_W_O_Complaint_Suspected_Or_Reprtd_Dx  3424 non-null   object\n",
            " 31  Comorb_Long_Term_Current_Drug_Therapy                               3424 non-null   object\n",
            " 32  Comorb_Dorsalgia                                                    3424 non-null   object\n",
            " 33  Comorb_Personal_History_Of_Other_Diseases_And_Conditions            3424 non-null   object\n",
            " 34  Comorb_Other_Disorders_Of_Bone_Density_And_Structure                3424 non-null   object\n",
            " 35  Comorb_Disorders_of_lipoprotein_metabolism_and_other_lipidemias     3424 non-null   object\n",
            " 36  Comorb_Osteoporosis_without_current_pathological_fracture           3424 non-null   object\n",
            " 37  Comorb_Personal_history_of_malignant_neoplasm                       3424 non-null   object\n",
            " 38  Comorb_Gastro_esophageal_reflux_disease                             3424 non-null   object\n",
            " 39  Concom_Cholesterol_And_Triglyceride_Regulating_Preparations         3424 non-null   object\n",
            " 40  Concom_Narcotics                                                    3424 non-null   object\n",
            " 41  Concom_Systemic_Corticosteroids_Plain                               3424 non-null   object\n",
            " 42  Concom_Anti_Depressants_And_Mood_Stabilisers                        3424 non-null   object\n",
            " 43  Concom_Fluoroquinolones                                             3424 non-null   object\n",
            " 44  Concom_Cephalosporins                                               3424 non-null   object\n",
            " 45  Concom_Macrolides_And_Similar_Types                                 3424 non-null   object\n",
            " 46  Concom_Broad_Spectrum_Penicillins                                   3424 non-null   object\n",
            " 47  Concom_Anaesthetics_General                                         3424 non-null   object\n",
            " 48  Concom_Viral_Vaccines                                               3424 non-null   object\n",
            " 49  Risk_Type_1_Insulin_Dependent_Diabetes                              3424 non-null   object\n",
            " 50  Risk_Osteogenesis_Imperfecta                                        3424 non-null   object\n",
            " 51  Risk_Rheumatoid_Arthritis                                           3424 non-null   object\n",
            " 52  Risk_Untreated_Chronic_Hyperthyroidism                              3424 non-null   object\n",
            " 53  Risk_Untreated_Chronic_Hypogonadism                                 3424 non-null   object\n",
            " 54  Risk_Untreated_Early_Menopause                                      3424 non-null   object\n",
            " 55  Risk_Patient_Parent_Fractured_Their_Hip                             3424 non-null   object\n",
            " 56  Risk_Smoking_Tobacco                                                3424 non-null   object\n",
            " 57  Risk_Chronic_Malnutrition_Or_Malabsorption                          3424 non-null   object\n",
            " 58  Risk_Chronic_Liver_Disease                                          3424 non-null   object\n",
            " 59  Risk_Family_History_Of_Osteoporosis                                 3424 non-null   object\n",
            " 60  Risk_Low_Calcium_Intake                                             3424 non-null   object\n",
            " 61  Risk_Vitamin_D_Insufficiency                                        3424 non-null   object\n",
            " 62  Risk_Poor_Health_Frailty                                            3424 non-null   object\n",
            " 63  Risk_Excessive_Thinness                                             3424 non-null   object\n",
            " 64  Risk_Hysterectomy_Oophorectomy                                      3424 non-null   object\n",
            " 65  Risk_Estrogen_Deficiency                                            3424 non-null   object\n",
            " 66  Risk_Immobilization                                                 3424 non-null   object\n",
            " 67  Risk_Recurring_Falls                                                3424 non-null   object\n",
            " 68  Count_Of_Risks                                                      3424 non-null   int64 \n",
            "dtypes: int64(2), object(67)\n",
            "memory usage: 1.8+ MB\n"
          ]
        }
      ]
    },
    {
      "cell_type": "code",
      "source": [
        "missing_values = df.isnull().sum()\n",
        "\n",
        "missing_values_summary = pd.DataFrame({\n",
        "    \"Column\": df.columns,\n",
        "    \"Missing Values\": missing_values,\n",
        "    \"Percentage Missing\": (missing_values / len(df)) * 100\n",
        "}).sort_values(by=\"Percentage Missing\", ascending=False)\n",
        "\n",
        "print(\"Missing Values Summary:\")\n",
        "print(missing_values_summary)"
      ],
      "metadata": {
        "colab": {
          "base_uri": "https://localhost:8080/"
        },
        "id": "R6WmcpzhZYqt",
        "outputId": "4d7b89c0-cb38-4feb-dc15-6a55aa38a24b"
      },
      "execution_count": null,
      "outputs": [
        {
          "output_type": "stream",
          "name": "stdout",
          "text": [
            "Missing Values Summary:\n",
            "                                                                                               Column  \\\n",
            "Ptid                                                                                             Ptid   \n",
            "Concom_Cephalosporins                                                           Concom_Cephalosporins   \n",
            "Risk_Osteogenesis_Imperfecta                                             Risk_Osteogenesis_Imperfecta   \n",
            "Risk_Type_1_Insulin_Dependent_Diabetes                         Risk_Type_1_Insulin_Dependent_Diabetes   \n",
            "Concom_Viral_Vaccines                                                           Concom_Viral_Vaccines   \n",
            "...                                                                                               ...   \n",
            "Comorb_Other_Joint_Disorder_Not_Elsewhere_Class...  Comorb_Other_Joint_Disorder_Not_Elsewhere_Clas...   \n",
            "Comorb_Encntr_For_Oth_Sp_Exam_W_O_Complaint_Sus...  Comorb_Encntr_For_Oth_Sp_Exam_W_O_Complaint_Su...   \n",
            "Comorb_Long_Term_Current_Drug_Therapy                           Comorb_Long_Term_Current_Drug_Therapy   \n",
            "Comorb_Dorsalgia                                                                     Comorb_Dorsalgia   \n",
            "Count_Of_Risks                                                                         Count_Of_Risks   \n",
            "\n",
            "                                                    Missing Values  \\\n",
            "Ptid                                                             0   \n",
            "Concom_Cephalosporins                                            0   \n",
            "Risk_Osteogenesis_Imperfecta                                     0   \n",
            "Risk_Type_1_Insulin_Dependent_Diabetes                           0   \n",
            "Concom_Viral_Vaccines                                            0   \n",
            "...                                                            ...   \n",
            "Comorb_Other_Joint_Disorder_Not_Elsewhere_Class...               0   \n",
            "Comorb_Encntr_For_Oth_Sp_Exam_W_O_Complaint_Sus...               0   \n",
            "Comorb_Long_Term_Current_Drug_Therapy                            0   \n",
            "Comorb_Dorsalgia                                                 0   \n",
            "Count_Of_Risks                                                   0   \n",
            "\n",
            "                                                    Percentage Missing  \n",
            "Ptid                                                               0.0  \n",
            "Concom_Cephalosporins                                              0.0  \n",
            "Risk_Osteogenesis_Imperfecta                                       0.0  \n",
            "Risk_Type_1_Insulin_Dependent_Diabetes                             0.0  \n",
            "Concom_Viral_Vaccines                                              0.0  \n",
            "...                                                                ...  \n",
            "Comorb_Other_Joint_Disorder_Not_Elsewhere_Class...                 0.0  \n",
            "Comorb_Encntr_For_Oth_Sp_Exam_W_O_Complaint_Sus...                 0.0  \n",
            "Comorb_Long_Term_Current_Drug_Therapy                              0.0  \n",
            "Comorb_Dorsalgia                                                   0.0  \n",
            "Count_Of_Risks                                                     0.0  \n",
            "\n",
            "[69 rows x 3 columns]\n"
          ]
        }
      ]
    },
    {
      "cell_type": "code",
      "source": [
        "df.isnull().sum().sum()"
      ],
      "metadata": {
        "colab": {
          "base_uri": "https://localhost:8080/"
        },
        "id": "MWsY-09ELry0",
        "outputId": "2d63b384-0802-415c-a4fe-fbfcc176714e"
      },
      "execution_count": null,
      "outputs": [
        {
          "output_type": "execute_result",
          "data": {
            "text/plain": [
              "0"
            ]
          },
          "metadata": {},
          "execution_count": 6
        }
      ]
    },
    {
      "cell_type": "markdown",
      "source": [
        "No null values in the dataset. It seems they set values to unknown instead of setting values to null to avoid any null values."
      ],
      "metadata": {
        "id": "emDbkaF3Ls8L"
      }
    },
    {
      "cell_type": "code",
      "source": [
        "df['Count_Of_Risks'] = pd.to_numeric(df['Count_Of_Risks'], errors='coerce').astype('Int64')"
      ],
      "metadata": {
        "id": "eqWEt0mPbXIW"
      },
      "execution_count": null,
      "outputs": []
    },
    {
      "cell_type": "code",
      "source": [
        "df['Count_Of_Risks'].value_counts().sort_values(ascending=False)"
      ],
      "metadata": {
        "colab": {
          "base_uri": "https://localhost:8080/",
          "height": 366
        },
        "id": "eR8J88XAbl5F",
        "outputId": "98aa9c0d-0ad0-40f2-b462-07566af65557"
      },
      "execution_count": null,
      "outputs": [
        {
          "output_type": "execute_result",
          "data": {
            "text/plain": [
              "Count_Of_Risks\n",
              "1    1242\n",
              "0     970\n",
              "2     781\n",
              "3     317\n",
              "4      91\n",
              "5      15\n",
              "6       6\n",
              "7       2\n",
              "Name: count, dtype: Int64"
            ],
            "text/html": [
              "<div>\n",
              "<style scoped>\n",
              "    .dataframe tbody tr th:only-of-type {\n",
              "        vertical-align: middle;\n",
              "    }\n",
              "\n",
              "    .dataframe tbody tr th {\n",
              "        vertical-align: top;\n",
              "    }\n",
              "\n",
              "    .dataframe thead th {\n",
              "        text-align: right;\n",
              "    }\n",
              "</style>\n",
              "<table border=\"1\" class=\"dataframe\">\n",
              "  <thead>\n",
              "    <tr style=\"text-align: right;\">\n",
              "      <th></th>\n",
              "      <th>count</th>\n",
              "    </tr>\n",
              "    <tr>\n",
              "      <th>Count_Of_Risks</th>\n",
              "      <th></th>\n",
              "    </tr>\n",
              "  </thead>\n",
              "  <tbody>\n",
              "    <tr>\n",
              "      <th>1</th>\n",
              "      <td>1242</td>\n",
              "    </tr>\n",
              "    <tr>\n",
              "      <th>0</th>\n",
              "      <td>970</td>\n",
              "    </tr>\n",
              "    <tr>\n",
              "      <th>2</th>\n",
              "      <td>781</td>\n",
              "    </tr>\n",
              "    <tr>\n",
              "      <th>3</th>\n",
              "      <td>317</td>\n",
              "    </tr>\n",
              "    <tr>\n",
              "      <th>4</th>\n",
              "      <td>91</td>\n",
              "    </tr>\n",
              "    <tr>\n",
              "      <th>5</th>\n",
              "      <td>15</td>\n",
              "    </tr>\n",
              "    <tr>\n",
              "      <th>6</th>\n",
              "      <td>6</td>\n",
              "    </tr>\n",
              "    <tr>\n",
              "      <th>7</th>\n",
              "      <td>2</td>\n",
              "    </tr>\n",
              "  </tbody>\n",
              "</table>\n",
              "</div><br><label><b>dtype:</b> Int64</label>"
            ]
          },
          "metadata": {},
          "execution_count": 10
        }
      ]
    },
    {
      "cell_type": "code",
      "source": [
        "g = sns.countplot(data=df, x='Count_Of_Risks')"
      ],
      "metadata": {
        "colab": {
          "base_uri": "https://localhost:8080/",
          "height": 450
        },
        "id": "mwPo2X1pcEwH",
        "outputId": "d630a8c8-e9da-4532-ab7f-498f955b8868"
      },
      "execution_count": null,
      "outputs": [
        {
          "output_type": "display_data",
          "data": {
            "text/plain": [
              "<Figure size 640x480 with 1 Axes>"
            ],
            "image/png": "[encoded data removed]"
          },
          "metadata": {}
        }
      ]
    },
    {
      "cell_type": "markdown",
      "source": [
        "As we can see, most people tend to have 0-2 counts of risk in total, which is good to see. It is better to see less counts of risks in comparison to the higher numbers."
      ],
      "metadata": {
        "id": "2ap0A80YcQzR"
      }
    },
    {
      "cell_type": "code",
      "source": [
        "df['Dexa_Freq_During_Rx'].value_counts().sort_values(ascending=True)"
      ],
      "metadata": {
        "colab": {
          "base_uri": "https://localhost:8080/",
          "height": 1000
        },
        "id": "N_5Ar5v4aRla",
        "outputId": "42ef8d69-73ef-4be0-990e-fdbee2ba87b0"
      },
      "execution_count": null,
      "outputs": [
        {
          "output_type": "execute_result",
          "data": {
            "text/plain": [
              "Dexa_Freq_During_Rx\n",
              "29        1\n",
              "54        1\n",
              "146       1\n",
              "50        1\n",
              "35        1\n",
              "44        1\n",
              "72        1\n",
              "40        1\n",
              "68        1\n",
              "45        1\n",
              "108       1\n",
              "69        1\n",
              "38        1\n",
              "27        1\n",
              "23        1\n",
              "33        1\n",
              "81        1\n",
              "66        1\n",
              "118       1\n",
              "110       1\n",
              "37        1\n",
              "88        2\n",
              "39        2\n",
              "25        2\n",
              "58        2\n",
              "48        2\n",
              "52        2\n",
              "32        3\n",
              "34        3\n",
              "42        3\n",
              "19        3\n",
              "36        5\n",
              "21        7\n",
              "28        7\n",
              "17        7\n",
              "30        7\n",
              "15        9\n",
              "24       10\n",
              "26       10\n",
              "22       13\n",
              "18       14\n",
              "16       14\n",
              "20       15\n",
              "13       19\n",
              "2        24\n",
              "1        24\n",
              "11       30\n",
              "9        32\n",
              "14       38\n",
              "3        46\n",
              "12       52\n",
              "10       55\n",
              "4        68\n",
              "8        71\n",
              "7        93\n",
              "6       107\n",
              "5       114\n",
              "0      2488\n",
              "Name: count, dtype: int64"
            ],
            "text/html": [
              "<div>\n",
              "<style scoped>\n",
              "    .dataframe tbody tr th:only-of-type {\n",
              "        vertical-align: middle;\n",
              "    }\n",
              "\n",
              "    .dataframe tbody tr th {\n",
              "        vertical-align: top;\n",
              "    }\n",
              "\n",
              "    .dataframe thead th {\n",
              "        text-align: right;\n",
              "    }\n",
              "</style>\n",
              "<table border=\"1\" class=\"dataframe\">\n",
              "  <thead>\n",
              "    <tr style=\"text-align: right;\">\n",
              "      <th></th>\n",
              "      <th>count</th>\n",
              "    </tr>\n",
              "    <tr>\n",
              "      <th>Dexa_Freq_During_Rx</th>\n",
              "      <th></th>\n",
              "    </tr>\n",
              "  </thead>\n",
              "  <tbody>\n",
              "    <tr>\n",
              "      <th>29</th>\n",
              "      <td>1</td>\n",
              "    </tr>\n",
              "    <tr>\n",
              "      <th>54</th>\n",
              "      <td>1</td>\n",
              "    </tr>\n",
              "    <tr>\n",
              "      <th>146</th>\n",
              "      <td>1</td>\n",
              "    </tr>\n",
              "    <tr>\n",
              "      <th>50</th>\n",
              "      <td>1</td>\n",
              "    </tr>\n",
              "    <tr>\n",
              "      <th>35</th>\n",
              "      <td>1</td>\n",
              "    </tr>\n",
              "    <tr>\n",
              "      <th>44</th>\n",
              "      <td>1</td>\n",
              "    </tr>\n",
              "    <tr>\n",
              "      <th>72</th>\n",
              "      <td>1</td>\n",
              "    </tr>\n",
              "    <tr>\n",
              "      <th>40</th>\n",
              "      <td>1</td>\n",
              "    </tr>\n",
              "    <tr>\n",
              "      <th>68</th>\n",
              "      <td>1</td>\n",
              "    </tr>\n",
              "    <tr>\n",
              "      <th>45</th>\n",
              "      <td>1</td>\n",
              "    </tr>\n",
              "    <tr>\n",
              "      <th>108</th>\n",
              "      <td>1</td>\n",
              "    </tr>\n",
              "    <tr>\n",
              "      <th>69</th>\n",
              "      <td>1</td>\n",
              "    </tr>\n",
              "    <tr>\n",
              "      <th>38</th>\n",
              "      <td>1</td>\n",
              "    </tr>\n",
              "    <tr>\n",
              "      <th>27</th>\n",
              "      <td>1</td>\n",
              "    </tr>\n",
              "    <tr>\n",
              "      <th>23</th>\n",
              "      <td>1</td>\n",
              "    </tr>\n",
              "    <tr>\n",
              "      <th>33</th>\n",
              "      <td>1</td>\n",
              "    </tr>\n",
              "    <tr>\n",
              "      <th>81</th>\n",
              "      <td>1</td>\n",
              "    </tr>\n",
              "    <tr>\n",
              "      <th>66</th>\n",
              "      <td>1</td>\n",
              "    </tr>\n",
              "    <tr>\n",
              "      <th>118</th>\n",
              "      <td>1</td>\n",
              "    </tr>\n",
              "    <tr>\n",
              "      <th>110</th>\n",
              "      <td>1</td>\n",
              "    </tr>\n",
              "    <tr>\n",
              "      <th>37</th>\n",
              "      <td>1</td>\n",
              "    </tr>\n",
              "    <tr>\n",
              "      <th>88</th>\n",
              "      <td>2</td>\n",
              "    </tr>\n",
              "    <tr>\n",
              "      <th>39</th>\n",
              "      <td>2</td>\n",
              "    </tr>\n",
              "    <tr>\n",
              "      <th>25</th>\n",
              "      <td>2</td>\n",
              "    </tr>\n",
              "    <tr>\n",
              "      <th>58</th>\n",
              "      <td>2</td>\n",
              "    </tr>\n",
              "    <tr>\n",
              "      <th>48</th>\n",
              "      <td>2</td>\n",
              "    </tr>\n",
              "    <tr>\n",
              "      <th>52</th>\n",
              "      <td>2</td>\n",
              "    </tr>\n",
              "    <tr>\n",
              "      <th>32</th>\n",
              "      <td>3</td>\n",
              "    </tr>\n",
              "    <tr>\n",
              "      <th>34</th>\n",
              "      <td>3</td>\n",
              "    </tr>\n",
              "    <tr>\n",
              "      <th>42</th>\n",
              "      <td>3</td>\n",
              "    </tr>\n",
              "    <tr>\n",
              "      <th>19</th>\n",
              "      <td>3</td>\n",
              "    </tr>\n",
              "    <tr>\n",
              "      <th>36</th>\n",
              "      <td>5</td>\n",
              "    </tr>\n",
              "    <tr>\n",
              "      <th>21</th>\n",
              "      <td>7</td>\n",
              "    </tr>\n",
              "    <tr>\n",
              "      <th>28</th>\n",
              "      <td>7</td>\n",
              "    </tr>\n",
              "    <tr>\n",
              "      <th>17</th>\n",
              "      <td>7</td>\n",
              "    </tr>\n",
              "    <tr>\n",
              "      <th>30</th>\n",
              "      <td>7</td>\n",
              "    </tr>\n",
              "    <tr>\n",
              "      <th>15</th>\n",
              "      <td>9</td>\n",
              "    </tr>\n",
              "    <tr>\n",
              "      <th>24</th>\n",
              "      <td>10</td>\n",
              "    </tr>\n",
              "    <tr>\n",
              "      <th>26</th>\n",
              "      <td>10</td>\n",
              "    </tr>\n",
              "    <tr>\n",
              "      <th>22</th>\n",
              "      <td>13</td>\n",
              "    </tr>\n",
              "    <tr>\n",
              "      <th>18</th>\n",
              "      <td>14</td>\n",
              "    </tr>\n",
              "    <tr>\n",
              "      <th>16</th>\n",
              "      <td>14</td>\n",
              "    </tr>\n",
              "    <tr>\n",
              "      <th>20</th>\n",
              "      <td>15</td>\n",
              "    </tr>\n",
              "    <tr>\n",
              "      <th>13</th>\n",
              "      <td>19</td>\n",
              "    </tr>\n",
              "    <tr>\n",
              "      <th>2</th>\n",
              "      <td>24</td>\n",
              "    </tr>\n",
              "    <tr>\n",
              "      <th>1</th>\n",
              "      <td>24</td>\n",
              "    </tr>\n",
              "    <tr>\n",
              "      <th>11</th>\n",
              "      <td>30</td>\n",
              "    </tr>\n",
              "    <tr>\n",
              "      <th>9</th>\n",
              "      <td>32</td>\n",
              "    </tr>\n",
              "    <tr>\n",
              "      <th>14</th>\n",
              "      <td>38</td>\n",
              "    </tr>\n",
              "    <tr>\n",
              "      <th>3</th>\n",
              "      <td>46</td>\n",
              "    </tr>\n",
              "    <tr>\n",
              "      <th>12</th>\n",
              "      <td>52</td>\n",
              "    </tr>\n",
              "    <tr>\n",
              "      <th>10</th>\n",
              "      <td>55</td>\n",
              "    </tr>\n",
              "    <tr>\n",
              "      <th>4</th>\n",
              "      <td>68</td>\n",
              "    </tr>\n",
              "    <tr>\n",
              "      <th>8</th>\n",
              "      <td>71</td>\n",
              "    </tr>\n",
              "    <tr>\n",
              "      <th>7</th>\n",
              "      <td>93</td>\n",
              "    </tr>\n",
              "    <tr>\n",
              "      <th>6</th>\n",
              "      <td>107</td>\n",
              "    </tr>\n",
              "    <tr>\n",
              "      <th>5</th>\n",
              "      <td>114</td>\n",
              "    </tr>\n",
              "    <tr>\n",
              "      <th>0</th>\n",
              "      <td>2488</td>\n",
              "    </tr>\n",
              "  </tbody>\n",
              "</table>\n",
              "</div><br><label><b>dtype:</b> int64</label>"
            ]
          },
          "metadata": {},
          "execution_count": 12
        }
      ]
    },
    {
      "cell_type": "code",
      "source": [
        "numeric_cols = df.select_dtypes(include=[np.number]).columns\n",
        "outliers_summary = {}\n",
        "\n",
        "for col in numeric_cols:\n",
        "    Q1 = df[col].quantile(0.25)\n",
        "    Q3 = df[col].quantile(0.75)\n",
        "    IQR = Q3 - Q1\n",
        "    lower_bound = Q1 - 1.5 * IQR\n",
        "    upper_bound = Q3 + 1.5 * IQR\n",
        "    outliers = df[(df[col] < lower_bound) | (df[col] > upper_bound)]\n",
        "\n",
        "    print(f\"{col}: Found {len(outliers)} outliers\")\n"
      ],
      "metadata": {
        "colab": {
          "base_uri": "https://localhost:8080/"
        },
        "id": "O_mliD1YFi0m",
        "outputId": "3d8684e6-19db-4bf7-e388-ef1de14dad1b"
      },
      "execution_count": null,
      "outputs": [
        {
          "output_type": "stream",
          "name": "stdout",
          "text": [
            "Dexa_Freq_During_Rx: Found 460 outliers\n",
            "Count_Of_Risks: Found 8 outliers\n"
          ]
        }
      ]
    },
    {
      "cell_type": "code",
      "source": [
        "from scipy.stats import skew\n",
        "\n",
        "skewness = df[numeric_cols].apply(skew).sort_values(ascending=False)\n",
        "\n",
        "print(\"Skewness in Numeric Columns:\")\n",
        "print(skewness)\n",
        "\n",
        "for col in skewness[skewness > 1].index:\n",
        "    df[col] = np.log1p(df[col])"
      ],
      "metadata": {
        "colab": {
          "base_uri": "https://localhost:8080/"
        },
        "id": "NV252ITWFyVm",
        "outputId": "808bd8a0-6f91-4b62-c47a-8f4fc173f7d7"
      },
      "execution_count": null,
      "outputs": [
        {
          "output_type": "stream",
          "name": "stdout",
          "text": [
            "Skewness in Numeric Columns:\n",
            "Dexa_Freq_During_Rx    6.805747\n",
            "Count_Of_Risks         0.879405\n",
            "dtype: float64\n"
          ]
        }
      ]
    },
    {
      "cell_type": "code",
      "source": [
        "for col in df.columns:\n",
        "    print(f\"{col}: {df[col].nunique()} unique values\")\n",
        "    print(df[col].value_counts().head(5))\n",
        "    print(\"-\" * 50)\n",
        "\n",
        "for col in df.columns:\n",
        "    unknown_count = (df[col] == \"Unknown\").sum()\n",
        "    if unknown_count > 0:\n",
        "        print(f\"{col}: {unknown_count} 'Unknown' entries\")\n"
      ],
      "metadata": {
        "colab": {
          "base_uri": "https://localhost:8080/"
        },
        "id": "_NCpqPgjJqcW",
        "outputId": "289ef2bc-9cc3-448f-90c0-0dc81c9d03cf"
      },
      "execution_count": null,
      "outputs": [
        {
          "output_type": "stream",
          "name": "stdout",
          "text": [
            "Ptid: 3424 unique values\n",
            "Ptid\n",
            "P1       1\n",
            "P2275    1\n",
            "P2277    1\n",
            "P2278    1\n",
            "P2279    1\n",
            "Name: count, dtype: int64\n",
            "--------------------------------------------------\n",
            "Persistency_Flag: 2 unique values\n",
            "Persistency_Flag\n",
            "Non-Persistent    2135\n",
            "Persistent        1289\n",
            "Name: count, dtype: int64\n",
            "--------------------------------------------------\n",
            "Gender: 2 unique values\n",
            "Gender\n",
            "Female    3230\n",
            "Male       194\n",
            "Name: count, dtype: int64\n",
            "--------------------------------------------------\n",
            "Race: 4 unique values\n",
            "Race\n",
            "Caucasian           3148\n",
            "Other/Unknown         97\n",
            "African American      95\n",
            "Asian                 84\n",
            "Name: count, dtype: int64\n",
            "--------------------------------------------------\n",
            "Ethnicity: 3 unique values\n",
            "Ethnicity\n",
            "Not Hispanic    3235\n",
            "Hispanic          98\n",
            "Unknown           91\n",
            "Name: count, dtype: int64\n",
            "--------------------------------------------------\n",
            "Region: 5 unique values\n",
            "Region\n",
            "Midwest          1383\n",
            "South            1247\n",
            "West              502\n",
            "Northeast         232\n",
            "Other/Unknown      60\n",
            "Name: count, dtype: int64\n",
            "--------------------------------------------------\n",
            "Age_Bucket: 4 unique values\n",
            "Age_Bucket\n",
            ">75      1439\n",
            "65-75    1086\n",
            "55-65     733\n",
            "<55       166\n",
            "Name: count, dtype: int64\n",
            "--------------------------------------------------\n",
            "Ntm_Speciality: 36 unique values\n",
            "Ntm_Speciality\n",
            "GENERAL PRACTITIONER    1535\n",
            "RHEUMATOLOGY             604\n",
            "ENDOCRINOLOGY            458\n",
            "Unknown                  310\n",
            "ONCOLOGY                 225\n",
            "Name: count, dtype: int64\n",
            "--------------------------------------------------\n",
            "Ntm_Specialist_Flag: 2 unique values\n",
            "Ntm_Specialist_Flag\n",
            "Others        2013\n",
            "Specialist    1411\n",
            "Name: count, dtype: int64\n",
            "--------------------------------------------------\n",
            "Ntm_Speciality_Bucket: 3 unique values\n",
            "Ntm_Speciality_Bucket\n",
            "OB/GYN/Others/PCP/Unknown    2104\n",
            "Endo/Onc/Uro                  716\n",
            "Rheum                         604\n",
            "Name: count, dtype: int64\n",
            "--------------------------------------------------\n",
            "Gluco_Record_Prior_Ntm: 2 unique values\n",
            "Gluco_Record_Prior_Ntm\n",
            "N    2619\n",
            "Y     805\n",
            "Name: count, dtype: int64\n",
            "--------------------------------------------------\n",
            "Gluco_Record_During_Rx: 2 unique values\n",
            "Gluco_Record_During_Rx\n",
            "N    2522\n",
            "Y     902\n",
            "Name: count, dtype: int64\n",
            "--------------------------------------------------\n",
            "Dexa_Freq_During_Rx: 58 unique values\n",
            "Dexa_Freq_During_Rx\n",
            "0.000000    2488\n",
            "1.791759     114\n",
            "1.945910     107\n",
            "2.079442      93\n",
            "2.197225      71\n",
            "Name: count, dtype: int64\n",
            "--------------------------------------------------\n",
            "Dexa_During_Rx: 2 unique values\n",
            "Dexa_During_Rx\n",
            "N    2488\n",
            "Y     936\n",
            "Name: count, dtype: int64\n",
            "--------------------------------------------------\n",
            "Frag_Frac_Prior_Ntm: 2 unique values\n",
            "Frag_Frac_Prior_Ntm\n",
            "N    2872\n",
            "Y     552\n",
            "Name: count, dtype: int64\n",
            "--------------------------------------------------\n",
            "Frag_Frac_During_Rx: 2 unique values\n",
            "Frag_Frac_During_Rx\n",
            "N    3007\n",
            "Y     417\n",
            "Name: count, dtype: int64\n",
            "--------------------------------------------------\n",
            "Risk_Segment_Prior_Ntm: 2 unique values\n",
            "Risk_Segment_Prior_Ntm\n",
            "VLR_LR    1931\n",
            "HR_VHR    1493\n",
            "Name: count, dtype: int64\n",
            "--------------------------------------------------\n",
            "Tscore_Bucket_Prior_Ntm: 2 unique values\n",
            "Tscore_Bucket_Prior_Ntm\n",
            ">-2.5     1951\n",
            "<=-2.5    1473\n",
            "Name: count, dtype: int64\n",
            "--------------------------------------------------\n",
            "Risk_Segment_During_Rx: 3 unique values\n",
            "Risk_Segment_During_Rx\n",
            "Unknown    1497\n",
            "HR_VHR      965\n",
            "VLR_LR      962\n",
            "Name: count, dtype: int64\n",
            "--------------------------------------------------\n",
            "Tscore_Bucket_During_Rx: 3 unique values\n",
            "Tscore_Bucket_During_Rx\n",
            "Unknown    1497\n",
            "<=-2.5     1017\n",
            ">-2.5       910\n",
            "Name: count, dtype: int64\n",
            "--------------------------------------------------\n",
            "Change_T_Score: 4 unique values\n",
            "Change_T_Score\n",
            "No change    1660\n",
            "Unknown      1497\n",
            "Worsened      173\n",
            "Improved       94\n",
            "Name: count, dtype: int64\n",
            "--------------------------------------------------\n",
            "Change_Risk_Segment: 4 unique values\n",
            "Change_Risk_Segment\n",
            "Unknown      2229\n",
            "No change    1052\n",
            "Worsened      121\n",
            "Improved       22\n",
            "Name: count, dtype: int64\n",
            "--------------------------------------------------\n",
            "Adherent_Flag: 2 unique values\n",
            "Adherent_Flag\n",
            "Adherent        3251\n",
            "Non-Adherent     173\n",
            "Name: count, dtype: int64\n",
            "--------------------------------------------------\n",
            "Idn_Indicator: 2 unique values\n",
            "Idn_Indicator\n",
            "Y    2557\n",
            "N     867\n",
            "Name: count, dtype: int64\n",
            "--------------------------------------------------\n",
            "Injectable_Experience_During_Rx: 2 unique values\n",
            "Injectable_Experience_During_Rx\n",
            "Y    3056\n",
            "N     368\n",
            "Name: count, dtype: int64\n",
            "--------------------------------------------------\n",
            "Comorb_Encounter_For_Screening_For_Malignant_Neoplasms: 2 unique values\n",
            "Comorb_Encounter_For_Screening_For_Malignant_Neoplasms\n",
            "N    1891\n",
            "Y    1533\n",
            "Name: count, dtype: int64\n",
            "--------------------------------------------------\n",
            "Comorb_Encounter_For_Immunization: 2 unique values\n",
            "Comorb_Encounter_For_Immunization\n",
            "N    1911\n",
            "Y    1513\n",
            "Name: count, dtype: int64\n",
            "--------------------------------------------------\n",
            "Comorb_Encntr_For_General_Exam_W_O_Complaint,_Susp_Or_Reprtd_Dx: 2 unique values\n",
            "Comorb_Encntr_For_General_Exam_W_O_Complaint,_Susp_Or_Reprtd_Dx\n",
            "N    2072\n",
            "Y    1352\n",
            "Name: count, dtype: int64\n",
            "--------------------------------------------------\n",
            "Comorb_Vitamin_D_Deficiency: 2 unique values\n",
            "Comorb_Vitamin_D_Deficiency\n",
            "N    2331\n",
            "Y    1093\n",
            "Name: count, dtype: int64\n",
            "--------------------------------------------------\n",
            "Comorb_Other_Joint_Disorder_Not_Elsewhere_Classified: 2 unique values\n",
            "Comorb_Other_Joint_Disorder_Not_Elsewhere_Classified\n",
            "N    2425\n",
            "Y     999\n",
            "Name: count, dtype: int64\n",
            "--------------------------------------------------\n",
            "Comorb_Encntr_For_Oth_Sp_Exam_W_O_Complaint_Suspected_Or_Reprtd_Dx: 2 unique values\n",
            "Comorb_Encntr_For_Oth_Sp_Exam_W_O_Complaint_Suspected_Or_Reprtd_Dx\n",
            "N    2633\n",
            "Y     791\n",
            "Name: count, dtype: int64\n",
            "--------------------------------------------------\n",
            "Comorb_Long_Term_Current_Drug_Therapy: 2 unique values\n",
            "Comorb_Long_Term_Current_Drug_Therapy\n",
            "N    2607\n",
            "Y     817\n",
            "Name: count, dtype: int64\n",
            "--------------------------------------------------\n",
            "Comorb_Dorsalgia: 2 unique values\n",
            "Comorb_Dorsalgia\n",
            "N    2645\n",
            "Y     779\n",
            "Name: count, dtype: int64\n",
            "--------------------------------------------------\n",
            "Comorb_Personal_History_Of_Other_Diseases_And_Conditions: 2 unique values\n",
            "Comorb_Personal_History_Of_Other_Diseases_And_Conditions\n",
            "N    2747\n",
            "Y     677\n",
            "Name: count, dtype: int64\n",
            "--------------------------------------------------\n",
            "Comorb_Other_Disorders_Of_Bone_Density_And_Structure: 2 unique values\n",
            "Comorb_Other_Disorders_Of_Bone_Density_And_Structure\n",
            "N    2906\n",
            "Y     518\n",
            "Name: count, dtype: int64\n",
            "--------------------------------------------------\n",
            "Comorb_Disorders_of_lipoprotein_metabolism_and_other_lipidemias: 2 unique values\n",
            "Comorb_Disorders_of_lipoprotein_metabolism_and_other_lipidemias\n",
            "Y    1765\n",
            "N    1659\n",
            "Name: count, dtype: int64\n",
            "--------------------------------------------------\n",
            "Comorb_Osteoporosis_without_current_pathological_fracture: 2 unique values\n",
            "Comorb_Osteoporosis_without_current_pathological_fracture\n",
            "N    2507\n",
            "Y     917\n",
            "Name: count, dtype: int64\n",
            "--------------------------------------------------\n",
            "Comorb_Personal_history_of_malignant_neoplasm: 2 unique values\n",
            "Comorb_Personal_history_of_malignant_neoplasm\n",
            "N    2775\n",
            "Y     649\n",
            "Name: count, dtype: int64\n",
            "--------------------------------------------------\n",
            "Comorb_Gastro_esophageal_reflux_disease: 2 unique values\n",
            "Comorb_Gastro_esophageal_reflux_disease\n",
            "N    2794\n",
            "Y     630\n",
            "Name: count, dtype: int64\n",
            "--------------------------------------------------\n",
            "Concom_Cholesterol_And_Triglyceride_Regulating_Preparations: 2 unique values\n",
            "Concom_Cholesterol_And_Triglyceride_Regulating_Preparations\n",
            "N    2242\n",
            "Y    1182\n",
            "Name: count, dtype: int64\n",
            "--------------------------------------------------\n",
            "Concom_Narcotics: 2 unique values\n",
            "Concom_Narcotics\n",
            "N    2191\n",
            "Y    1233\n",
            "Name: count, dtype: int64\n",
            "--------------------------------------------------\n",
            "Concom_Systemic_Corticosteroids_Plain: 2 unique values\n",
            "Concom_Systemic_Corticosteroids_Plain\n",
            "N    2451\n",
            "Y     973\n",
            "Name: count, dtype: int64\n",
            "--------------------------------------------------\n",
            "Concom_Anti_Depressants_And_Mood_Stabilisers: 2 unique values\n",
            "Concom_Anti_Depressants_And_Mood_Stabilisers\n",
            "N    2465\n",
            "Y     959\n",
            "Name: count, dtype: int64\n",
            "--------------------------------------------------\n",
            "Concom_Fluoroquinolones: 2 unique values\n",
            "Concom_Fluoroquinolones\n",
            "N    2787\n",
            "Y     637\n",
            "Name: count, dtype: int64\n",
            "--------------------------------------------------\n",
            "Concom_Cephalosporins: 2 unique values\n",
            "Concom_Cephalosporins\n",
            "N    2821\n",
            "Y     603\n",
            "Name: count, dtype: int64\n",
            "--------------------------------------------------\n",
            "Concom_Macrolides_And_Similar_Types: 2 unique values\n",
            "Concom_Macrolides_And_Similar_Types\n",
            "N    2853\n",
            "Y     571\n",
            "Name: count, dtype: int64\n",
            "--------------------------------------------------\n",
            "Concom_Broad_Spectrum_Penicillins: 2 unique values\n",
            "Concom_Broad_Spectrum_Penicillins\n",
            "N    2985\n",
            "Y     439\n",
            "Name: count, dtype: int64\n",
            "--------------------------------------------------\n",
            "Concom_Anaesthetics_General: 2 unique values\n",
            "Concom_Anaesthetics_General\n",
            "N    2927\n",
            "Y     497\n",
            "Name: count, dtype: int64\n",
            "--------------------------------------------------\n",
            "Concom_Viral_Vaccines: 2 unique values\n",
            "Concom_Viral_Vaccines\n",
            "N    3071\n",
            "Y     353\n",
            "Name: count, dtype: int64\n",
            "--------------------------------------------------\n",
            "Risk_Type_1_Insulin_Dependent_Diabetes: 2 unique values\n",
            "Risk_Type_1_Insulin_Dependent_Diabetes\n",
            "N    3285\n",
            "Y     139\n",
            "Name: count, dtype: int64\n",
            "--------------------------------------------------\n",
            "Risk_Osteogenesis_Imperfecta: 2 unique values\n",
            "Risk_Osteogenesis_Imperfecta\n",
            "N    3421\n",
            "Y       3\n",
            "Name: count, dtype: int64\n",
            "--------------------------------------------------\n",
            "Risk_Rheumatoid_Arthritis: 2 unique values\n",
            "Risk_Rheumatoid_Arthritis\n",
            "N    3294\n",
            "Y     130\n",
            "Name: count, dtype: int64\n",
            "--------------------------------------------------\n",
            "Risk_Untreated_Chronic_Hyperthyroidism: 2 unique values\n",
            "Risk_Untreated_Chronic_Hyperthyroidism\n",
            "N    3422\n",
            "Y       2\n",
            "Name: count, dtype: int64\n",
            "--------------------------------------------------\n",
            "Risk_Untreated_Chronic_Hypogonadism: 2 unique values\n",
            "Risk_Untreated_Chronic_Hypogonadism\n",
            "N    3297\n",
            "Y     127\n",
            "Name: count, dtype: int64\n",
            "--------------------------------------------------\n",
            "Risk_Untreated_Early_Menopause: 2 unique values\n",
            "Risk_Untreated_Early_Menopause\n",
            "N    3412\n",
            "Y      12\n",
            "Name: count, dtype: int64\n",
            "--------------------------------------------------\n",
            "Risk_Patient_Parent_Fractured_Their_Hip: 2 unique values\n",
            "Risk_Patient_Parent_Fractured_Their_Hip\n",
            "N    3168\n",
            "Y     256\n",
            "Name: count, dtype: int64\n",
            "--------------------------------------------------\n",
            "Risk_Smoking_Tobacco: 2 unique values\n",
            "Risk_Smoking_Tobacco\n",
            "N    2780\n",
            "Y     644\n",
            "Name: count, dtype: int64\n",
            "--------------------------------------------------\n",
            "Risk_Chronic_Malnutrition_Or_Malabsorption: 2 unique values\n",
            "Risk_Chronic_Malnutrition_Or_Malabsorption\n",
            "N    2954\n",
            "Y     470\n",
            "Name: count, dtype: int64\n",
            "--------------------------------------------------\n",
            "Risk_Chronic_Liver_Disease: 2 unique values\n",
            "Risk_Chronic_Liver_Disease\n",
            "N    3406\n",
            "Y      18\n",
            "Name: count, dtype: int64\n",
            "--------------------------------------------------\n",
            "Risk_Family_History_Of_Osteoporosis: 2 unique values\n",
            "Risk_Family_History_Of_Osteoporosis\n",
            "N    3066\n",
            "Y     358\n",
            "Name: count, dtype: int64\n",
            "--------------------------------------------------\n",
            "Risk_Low_Calcium_Intake: 2 unique values\n",
            "Risk_Low_Calcium_Intake\n",
            "N    3382\n",
            "Y      42\n",
            "Name: count, dtype: int64\n",
            "--------------------------------------------------\n",
            "Risk_Vitamin_D_Insufficiency: 2 unique values\n",
            "Risk_Vitamin_D_Insufficiency\n",
            "N    1788\n",
            "Y    1636\n",
            "Name: count, dtype: int64\n",
            "--------------------------------------------------\n",
            "Risk_Poor_Health_Frailty: 2 unique values\n",
            "Risk_Poor_Health_Frailty\n",
            "N    3232\n",
            "Y     192\n",
            "Name: count, dtype: int64\n",
            "--------------------------------------------------\n",
            "Risk_Excessive_Thinness: 2 unique values\n",
            "Risk_Excessive_Thinness\n",
            "N    3357\n",
            "Y      67\n",
            "Name: count, dtype: int64\n",
            "--------------------------------------------------\n",
            "Risk_Hysterectomy_Oophorectomy: 2 unique values\n",
            "Risk_Hysterectomy_Oophorectomy\n",
            "N    3370\n",
            "Y      54\n",
            "Name: count, dtype: int64\n",
            "--------------------------------------------------\n",
            "Risk_Estrogen_Deficiency: 2 unique values\n",
            "Risk_Estrogen_Deficiency\n",
            "N    3413\n",
            "Y      11\n",
            "Name: count, dtype: int64\n",
            "--------------------------------------------------\n",
            "Risk_Immobilization: 2 unique values\n",
            "Risk_Immobilization\n",
            "N    3410\n",
            "Y      14\n",
            "Name: count, dtype: int64\n",
            "--------------------------------------------------\n",
            "Risk_Recurring_Falls: 2 unique values\n",
            "Risk_Recurring_Falls\n",
            "N    3355\n",
            "Y      69\n",
            "Name: count, dtype: int64\n",
            "--------------------------------------------------\n",
            "Count_Of_Risks: 8 unique values\n",
            "Count_Of_Risks\n",
            "1    1242\n",
            "0     970\n",
            "2     781\n",
            "3     317\n",
            "4      91\n",
            "Name: count, dtype: Int64\n",
            "--------------------------------------------------\n",
            "Ethnicity: 91 'Unknown' entries\n",
            "Ntm_Speciality: 310 'Unknown' entries\n",
            "Risk_Segment_During_Rx: 1497 'Unknown' entries\n",
            "Tscore_Bucket_During_Rx: 1497 'Unknown' entries\n",
            "Change_T_Score: 1497 'Unknown' entries\n",
            "Change_Risk_Segment: 2229 'Unknown' entries\n"
          ]
        }
      ]
    },
    {
      "cell_type": "code",
      "source": [
        "pd.set_option('display.max_rows', 1000)\n",
        "df.dtypes"
      ],
      "metadata": {
        "colab": {
          "base_uri": "https://localhost:8080/",
          "height": 1000
        },
        "id": "4fWXbM4iJMSf",
        "outputId": "ae6332ab-304d-4cc2-b1bc-ddff8a3c60da"
      },
      "execution_count": null,
      "outputs": [
        {
          "output_type": "execute_result",
          "data": {
            "text/plain": [
              "Ptid                                                                   object\n",
              "Persistency_Flag                                                       object\n",
              "Gender                                                                 object\n",
              "Race                                                                   object\n",
              "Ethnicity                                                              object\n",
              "Region                                                                 object\n",
              "Age_Bucket                                                             object\n",
              "Ntm_Speciality                                                         object\n",
              "Ntm_Specialist_Flag                                                    object\n",
              "Ntm_Speciality_Bucket                                                  object\n",
              "Gluco_Record_Prior_Ntm                                                 object\n",
              "Gluco_Record_During_Rx                                                 object\n",
              "Dexa_Freq_During_Rx                                                   float64\n",
              "Dexa_During_Rx                                                         object\n",
              "Frag_Frac_Prior_Ntm                                                    object\n",
              "Frag_Frac_During_Rx                                                    object\n",
              "Risk_Segment_Prior_Ntm                                                 object\n",
              "Tscore_Bucket_Prior_Ntm                                                object\n",
              "Risk_Segment_During_Rx                                                 object\n",
              "Tscore_Bucket_During_Rx                                                object\n",
              "Change_T_Score                                                         object\n",
              "Change_Risk_Segment                                                    object\n",
              "Adherent_Flag                                                          object\n",
              "Idn_Indicator                                                          object\n",
              "Injectable_Experience_During_Rx                                        object\n",
              "Comorb_Encounter_For_Screening_For_Malignant_Neoplasms                 object\n",
              "Comorb_Encounter_For_Immunization                                      object\n",
              "Comorb_Encntr_For_General_Exam_W_O_Complaint,_Susp_Or_Reprtd_Dx        object\n",
              "Comorb_Vitamin_D_Deficiency                                            object\n",
              "Comorb_Other_Joint_Disorder_Not_Elsewhere_Classified                   object\n",
              "Comorb_Encntr_For_Oth_Sp_Exam_W_O_Complaint_Suspected_Or_Reprtd_Dx     object\n",
              "Comorb_Long_Term_Current_Drug_Therapy                                  object\n",
              "Comorb_Dorsalgia                                                       object\n",
              "Comorb_Personal_History_Of_Other_Diseases_And_Conditions               object\n",
              "Comorb_Other_Disorders_Of_Bone_Density_And_Structure                   object\n",
              "Comorb_Disorders_of_lipoprotein_metabolism_and_other_lipidemias        object\n",
              "Comorb_Osteoporosis_without_current_pathological_fracture              object\n",
              "Comorb_Personal_history_of_malignant_neoplasm                          object\n",
              "Comorb_Gastro_esophageal_reflux_disease                                object\n",
              "Concom_Cholesterol_And_Triglyceride_Regulating_Preparations            object\n",
              "Concom_Narcotics                                                       object\n",
              "Concom_Systemic_Corticosteroids_Plain                                  object\n",
              "Concom_Anti_Depressants_And_Mood_Stabilisers                           object\n",
              "Concom_Fluoroquinolones                                                object\n",
              "Concom_Cephalosporins                                                  object\n",
              "Concom_Macrolides_And_Similar_Types                                    object\n",
              "Concom_Broad_Spectrum_Penicillins                                      object\n",
              "Concom_Anaesthetics_General                                            object\n",
              "Concom_Viral_Vaccines                                                  object\n",
              "Risk_Type_1_Insulin_Dependent_Diabetes                                 object\n",
              "Risk_Osteogenesis_Imperfecta                                           object\n",
              "Risk_Rheumatoid_Arthritis                                              object\n",
              "Risk_Untreated_Chronic_Hyperthyroidism                                 object\n",
              "Risk_Untreated_Chronic_Hypogonadism                                    object\n",
              "Risk_Untreated_Early_Menopause                                         object\n",
              "Risk_Patient_Parent_Fractured_Their_Hip                                object\n",
              "Risk_Smoking_Tobacco                                                   object\n",
              "Risk_Chronic_Malnutrition_Or_Malabsorption                             object\n",
              "Risk_Chronic_Liver_Disease                                             object\n",
              "Risk_Family_History_Of_Osteoporosis                                    object\n",
              "Risk_Low_Calcium_Intake                                                object\n",
              "Risk_Vitamin_D_Insufficiency                                           object\n",
              "Risk_Poor_Health_Frailty                                               object\n",
              "Risk_Excessive_Thinness                                                object\n",
              "Risk_Hysterectomy_Oophorectomy                                         object\n",
              "Risk_Estrogen_Deficiency                                               object\n",
              "Risk_Immobilization                                                    object\n",
              "Risk_Recurring_Falls                                                   object\n",
              "Count_Of_Risks                                                          Int64\n",
              "dtype: object"
            ],
            "text/html": [
              "<div>\n",
              "<style scoped>\n",
              "    .dataframe tbody tr th:only-of-type {\n",
              "        vertical-align: middle;\n",
              "    }\n",
              "\n",
              "    .dataframe tbody tr th {\n",
              "        vertical-align: top;\n",
              "    }\n",
              "\n",
              "    .dataframe thead th {\n",
              "        text-align: right;\n",
              "    }\n",
              "</style>\n",
              "<table border=\"1\" class=\"dataframe\">\n",
              "  <thead>\n",
              "    <tr style=\"text-align: right;\">\n",
              "      <th></th>\n",
              "      <th>0</th>\n",
              "    </tr>\n",
              "  </thead>\n",
              "  <tbody>\n",
              "    <tr>\n",
              "      <th>Ptid</th>\n",
              "      <td>object</td>\n",
              "    </tr>\n",
              "    <tr>\n",
              "      <th>Persistency_Flag</th>\n",
              "      <td>object</td>\n",
              "    </tr>\n",
              "    <tr>\n",
              "      <th>Gender</th>\n",
              "      <td>object</td>\n",
              "    </tr>\n",
              "    <tr>\n",
              "      <th>Race</th>\n",
              "      <td>object</td>\n",
              "    </tr>\n",
              "    <tr>\n",
              "      <th>Ethnicity</th>\n",
              "      <td>object</td>\n",
              "    </tr>\n",
              "    <tr>\n",
              "      <th>Region</th>\n",
              "      <td>object</td>\n",
              "    </tr>\n",
              "    <tr>\n",
              "      <th>Age_Bucket</th>\n",
              "      <td>object</td>\n",
              "    </tr>\n",
              "    <tr>\n",
              "      <th>Ntm_Speciality</th>\n",
              "      <td>object</td>\n",
              "    </tr>\n",
              "    <tr>\n",
              "      <th>Ntm_Specialist_Flag</th>\n",
              "      <td>object</td>\n",
              "    </tr>\n",
              "    <tr>\n",
              "      <th>Ntm_Speciality_Bucket</th>\n",
              "      <td>object</td>\n",
              "    </tr>\n",
              "    <tr>\n",
              "      <th>Gluco_Record_Prior_Ntm</th>\n",
              "      <td>object</td>\n",
              "    </tr>\n",
              "    <tr>\n",
              "      <th>Gluco_Record_During_Rx</th>\n",
              "      <td>object</td>\n",
              "    </tr>\n",
              "    <tr>\n",
              "      <th>Dexa_Freq_During_Rx</th>\n",
              "      <td>float64</td>\n",
              "    </tr>\n",
              "    <tr>\n",
              "      <th>Dexa_During_Rx</th>\n",
              "      <td>object</td>\n",
              "    </tr>\n",
              "    <tr>\n",
              "      <th>Frag_Frac_Prior_Ntm</th>\n",
              "      <td>object</td>\n",
              "    </tr>\n",
              "    <tr>\n",
              "      <th>Frag_Frac_During_Rx</th>\n",
              "      <td>object</td>\n",
              "    </tr>\n",
              "    <tr>\n",
              "      <th>Risk_Segment_Prior_Ntm</th>\n",
              "      <td>object</td>\n",
              "    </tr>\n",
              "    <tr>\n",
              "      <th>Tscore_Bucket_Prior_Ntm</th>\n",
              "      <td>object</td>\n",
              "    </tr>\n",
              "    <tr>\n",
              "      <th>Risk_Segment_During_Rx</th>\n",
              "      <td>object</td>\n",
              "    </tr>\n",
              "    <tr>\n",
              "      <th>Tscore_Bucket_During_Rx</th>\n",
              "      <td>object</td>\n",
              "    </tr>\n",
              "    <tr>\n",
              "      <th>Change_T_Score</th>\n",
              "      <td>object</td>\n",
              "    </tr>\n",
              "    <tr>\n",
              "      <th>Change_Risk_Segment</th>\n",
              "      <td>object</td>\n",
              "    </tr>\n",
              "    <tr>\n",
              "      <th>Adherent_Flag</th>\n",
              "      <td>object</td>\n",
              "    </tr>\n",
              "    <tr>\n",
              "      <th>Idn_Indicator</th>\n",
              "      <td>object</td>\n",
              "    </tr>\n",
              "    <tr>\n",
              "      <th>Injectable_Experience_During_Rx</th>\n",
              "      <td>object</td>\n",
              "    </tr>\n",
              "    <tr>\n",
              "      <th>Comorb_Encounter_For_Screening_For_Malignant_Neoplasms</th>\n",
              "      <td>object</td>\n",
              "    </tr>\n",
              "    <tr>\n",
              "      <th>Comorb_Encounter_For_Immunization</th>\n",
              "      <td>object</td>\n",
              "    </tr>\n",
              "    <tr>\n",
              "      <th>Comorb_Encntr_For_General_Exam_W_O_Complaint,_Susp_Or_Reprtd_Dx</th>\n",
              "      <td>object</td>\n",
              "    </tr>\n",
              "    <tr>\n",
              "      <th>Comorb_Vitamin_D_Deficiency</th>\n",
              "      <td>object</td>\n",
              "    </tr>\n",
              "    <tr>\n",
              "      <th>Comorb_Other_Joint_Disorder_Not_Elsewhere_Classified</th>\n",
              "      <td>object</td>\n",
              "    </tr>\n",
              "    <tr>\n",
              "      <th>Comorb_Encntr_For_Oth_Sp_Exam_W_O_Complaint_Suspected_Or_Reprtd_Dx</th>\n",
              "      <td>object</td>\n",
              "    </tr>\n",
              "    <tr>\n",
              "      <th>Comorb_Long_Term_Current_Drug_Therapy</th>\n",
              "      <td>object</td>\n",
              "    </tr>\n",
              "    <tr>\n",
              "      <th>Comorb_Dorsalgia</th>\n",
              "      <td>object</td>\n",
              "    </tr>\n",
              "    <tr>\n",
              "      <th>Comorb_Personal_History_Of_Other_Diseases_And_Conditions</th>\n",
              "      <td>object</td>\n",
              "    </tr>\n",
              "    <tr>\n",
              "      <th>Comorb_Other_Disorders_Of_Bone_Density_And_Structure</th>\n",
              "      <td>object</td>\n",
              "    </tr>\n",
              "    <tr>\n",
              "      <th>Comorb_Disorders_of_lipoprotein_metabolism_and_other_lipidemias</th>\n",
              "      <td>object</td>\n",
              "    </tr>\n",
              "    <tr>\n",
              "      <th>Comorb_Osteoporosis_without_current_pathological_fracture</th>\n",
              "      <td>object</td>\n",
              "    </tr>\n",
              "    <tr>\n",
              "      <th>Comorb_Personal_history_of_malignant_neoplasm</th>\n",
              "      <td>object</td>\n",
              "    </tr>\n",
              "    <tr>\n",
              "      <th>Comorb_Gastro_esophageal_reflux_disease</th>\n",
              "      <td>object</td>\n",
              "    </tr>\n",
              "    <tr>\n",
              "      <th>Concom_Cholesterol_And_Triglyceride_Regulating_Preparations</th>\n",
              "      <td>object</td>\n",
              "    </tr>\n",
              "    <tr>\n",
              "      <th>Concom_Narcotics</th>\n",
              "      <td>object</td>\n",
              "    </tr>\n",
              "    <tr>\n",
              "      <th>Concom_Systemic_Corticosteroids_Plain</th>\n",
              "      <td>object</td>\n",
              "    </tr>\n",
              "    <tr>\n",
              "      <th>Concom_Anti_Depressants_And_Mood_Stabilisers</th>\n",
              "      <td>object</td>\n",
              "    </tr>\n",
              "    <tr>\n",
              "      <th>Concom_Fluoroquinolones</th>\n",
              "      <td>object</td>\n",
              "    </tr>\n",
              "    <tr>\n",
              "      <th>Concom_Cephalosporins</th>\n",
              "      <td>object</td>\n",
              "    </tr>\n",
              "    <tr>\n",
              "      <th>Concom_Macrolides_And_Similar_Types</th>\n",
              "      <td>object</td>\n",
              "    </tr>\n",
              "    <tr>\n",
              "      <th>Concom_Broad_Spectrum_Penicillins</th>\n",
              "      <td>object</td>\n",
              "    </tr>\n",
              "    <tr>\n",
              "      <th>Concom_Anaesthetics_General</th>\n",
              "      <td>object</td>\n",
              "    </tr>\n",
              "    <tr>\n",
              "      <th>Concom_Viral_Vaccines</th>\n",
              "      <td>object</td>\n",
              "    </tr>\n",
              "    <tr>\n",
              "      <th>Risk_Type_1_Insulin_Dependent_Diabetes</th>\n",
              "      <td>object</td>\n",
              "    </tr>\n",
              "    <tr>\n",
              "      <th>Risk_Osteogenesis_Imperfecta</th>\n",
              "      <td>object</td>\n",
              "    </tr>\n",
              "    <tr>\n",
              "      <th>Risk_Rheumatoid_Arthritis</th>\n",
              "      <td>object</td>\n",
              "    </tr>\n",
              "    <tr>\n",
              "      <th>Risk_Untreated_Chronic_Hyperthyroidism</th>\n",
              "      <td>object</td>\n",
              "    </tr>\n",
              "    <tr>\n",
              "      <th>Risk_Untreated_Chronic_Hypogonadism</th>\n",
              "      <td>object</td>\n",
              "    </tr>\n",
              "    <tr>\n",
              "      <th>Risk_Untreated_Early_Menopause</th>\n",
              "      <td>object</td>\n",
              "    </tr>\n",
              "    <tr>\n",
              "      <th>Risk_Patient_Parent_Fractured_Their_Hip</th>\n",
              "      <td>object</td>\n",
              "    </tr>\n",
              "    <tr>\n",
              "      <th>Risk_Smoking_Tobacco</th>\n",
              "      <td>object</td>\n",
              "    </tr>\n",
              "    <tr>\n",
              "      <th>Risk_Chronic_Malnutrition_Or_Malabsorption</th>\n",
              "      <td>object</td>\n",
              "    </tr>\n",
              "    <tr>\n",
              "      <th>Risk_Chronic_Liver_Disease</th>\n",
              "      <td>object</td>\n",
              "    </tr>\n",
              "    <tr>\n",
              "      <th>Risk_Family_History_Of_Osteoporosis</th>\n",
              "      <td>object</td>\n",
              "    </tr>\n",
              "    <tr>\n",
              "      <th>Risk_Low_Calcium_Intake</th>\n",
              "      <td>object</td>\n",
              "    </tr>\n",
              "    <tr>\n",
              "      <th>Risk_Vitamin_D_Insufficiency</th>\n",
              "      <td>object</td>\n",
              "    </tr>\n",
              "    <tr>\n",
              "      <th>Risk_Poor_Health_Frailty</th>\n",
              "      <td>object</td>\n",
              "    </tr>\n",
              "    <tr>\n",
              "      <th>Risk_Excessive_Thinness</th>\n",
              "      <td>object</td>\n",
              "    </tr>\n",
              "    <tr>\n",
              "      <th>Risk_Hysterectomy_Oophorectomy</th>\n",
              "      <td>object</td>\n",
              "    </tr>\n",
              "    <tr>\n",
              "      <th>Risk_Estrogen_Deficiency</th>\n",
              "      <td>object</td>\n",
              "    </tr>\n",
              "    <tr>\n",
              "      <th>Risk_Immobilization</th>\n",
              "      <td>object</td>\n",
              "    </tr>\n",
              "    <tr>\n",
              "      <th>Risk_Recurring_Falls</th>\n",
              "      <td>object</td>\n",
              "    </tr>\n",
              "    <tr>\n",
              "      <th>Count_Of_Risks</th>\n",
              "      <td>Int64</td>\n",
              "    </tr>\n",
              "  </tbody>\n",
              "</table>\n",
              "</div><br><label><b>dtype:</b> object</label>"
            ]
          },
          "metadata": {},
          "execution_count": 21
        }
      ]
    },
    {
      "cell_type": "code",
      "source": [
        "g = sns.countplot(data=df,\n",
        "                  x='Dexa_Freq_During_Rx')\n",
        "g"
      ],
      "metadata": {
        "colab": {
          "base_uri": "https://localhost:8080/",
          "height": 467
        },
        "id": "iebU_H9cBrsb",
        "outputId": "0afc8d2f-2d20-4321-bb60-6293a80fd75c"
      },
      "execution_count": null,
      "outputs": [
        {
          "output_type": "execute_result",
          "data": {
            "text/plain": [
              "<Axes: xlabel='Dexa_Freq_During_Rx', ylabel='count'>"
            ]
          },
          "metadata": {},
          "execution_count": 80
        },
        {
          "output_type": "display_data",
          "data": {
            "text/plain": [
              "<Figure size 640x480 with 1 Axes>"
            ],
            "image/png": "[encoded data removed]"
          },
          "metadata": {}
        }
      ]
    },
    {
      "cell_type": "code",
      "source": [
        "g = sns.countplot(data=df[df['Dexa_Freq_During_Rx'] != 0],\n",
        "                  x='Dexa_Freq_During_Rx')\n",
        "g"
      ],
      "metadata": {
        "colab": {
          "base_uri": "https://localhost:8080/",
          "height": 467
        },
        "id": "GZSSmX3jaqTS",
        "outputId": "0c6cb291-08bc-4971-f9d5-f734b04f3f39"
      },
      "execution_count": null,
      "outputs": [
        {
          "output_type": "execute_result",
          "data": {
            "text/plain": [
              "<Axes: xlabel='Dexa_Freq_During_Rx', ylabel='count'>"
            ]
          },
          "metadata": {},
          "execution_count": 81
        },
        {
          "output_type": "display_data",
          "data": {
            "text/plain": [
              "<Figure size 640x480 with 1 Axes>"
            ],
            "image/png": "[encoded data removed]"
          },
          "metadata": {}
        }
      ]
    },
    {
      "cell_type": "markdown",
      "source": [
        "This is what the distribution looks like without the outlier of 0"
      ],
      "metadata": {
        "id": "mq5y3JeOc8Hr"
      }
    },
    {
      "cell_type": "code",
      "source": [
        "df['Age_Bucket'].value_counts()"
      ],
      "metadata": {
        "colab": {
          "base_uri": "https://localhost:8080/",
          "height": 241
        },
        "id": "hfLAZ3ppa1FT",
        "outputId": "d4bd3253-028d-458f-fa31-35c85b742b15"
      },
      "execution_count": null,
      "outputs": [
        {
          "output_type": "execute_result",
          "data": {
            "text/plain": [
              "Age_Bucket\n",
              ">75      1439\n",
              "65-75    1086\n",
              "55-65     733\n",
              "<55       166\n",
              "Name: count, dtype: int64"
            ],
            "text/html": [
              "<div>\n",
              "<style scoped>\n",
              "    .dataframe tbody tr th:only-of-type {\n",
              "        vertical-align: middle;\n",
              "    }\n",
              "\n",
              "    .dataframe tbody tr th {\n",
              "        vertical-align: top;\n",
              "    }\n",
              "\n",
              "    .dataframe thead th {\n",
              "        text-align: right;\n",
              "    }\n",
              "</style>\n",
              "<table border=\"1\" class=\"dataframe\">\n",
              "  <thead>\n",
              "    <tr style=\"text-align: right;\">\n",
              "      <th></th>\n",
              "      <th>count</th>\n",
              "    </tr>\n",
              "    <tr>\n",
              "      <th>Age_Bucket</th>\n",
              "      <th></th>\n",
              "    </tr>\n",
              "  </thead>\n",
              "  <tbody>\n",
              "    <tr>\n",
              "      <th>&gt;75</th>\n",
              "      <td>1439</td>\n",
              "    </tr>\n",
              "    <tr>\n",
              "      <th>65-75</th>\n",
              "      <td>1086</td>\n",
              "    </tr>\n",
              "    <tr>\n",
              "      <th>55-65</th>\n",
              "      <td>733</td>\n",
              "    </tr>\n",
              "    <tr>\n",
              "      <th>&lt;55</th>\n",
              "      <td>166</td>\n",
              "    </tr>\n",
              "  </tbody>\n",
              "</table>\n",
              "</div><br><label><b>dtype:</b> int64</label>"
            ]
          },
          "metadata": {},
          "execution_count": 47
        }
      ]
    },
    {
      "cell_type": "code",
      "source": [
        "g = sns.countplot(data=df,\n",
        "                  x='Age_Bucket',\n",
        "                  order=['<55', '55-65', '65-75', '>75']);"
      ],
      "metadata": {
        "colab": {
          "base_uri": "https://localhost:8080/",
          "height": 450
        },
        "id": "garxfeXlij68",
        "outputId": "3eadbc18-964a-4cfb-8d04-133452d11dc0"
      },
      "execution_count": null,
      "outputs": [
        {
          "output_type": "display_data",
          "data": {
            "text/plain": [
              "<Figure size 640x480 with 1 Axes>"
            ],
            "image/png": "[encoded data removed]"
          },
          "metadata": {}
        }
      ]
    },
    {
      "cell_type": "markdown",
      "source": [
        "The largest proportion of patients reported in this dataset belongs to the older age group, specifically those aged >75."
      ],
      "metadata": {
        "id": "21KbaREbI-Fg"
      }
    },
    {
      "cell_type": "code",
      "source": [
        "df['Ntm_Speciality_Bucket'].value_counts()"
      ],
      "metadata": {
        "colab": {
          "base_uri": "https://localhost:8080/",
          "height": 210
        },
        "id": "DsbJfUapvI5K",
        "outputId": "943318d1-1872-4723-a204-f059c289142a"
      },
      "execution_count": null,
      "outputs": [
        {
          "output_type": "execute_result",
          "data": {
            "text/plain": [
              "Ntm_Speciality_Bucket\n",
              "OB/GYN/Others/PCP/Unknown    2104\n",
              "Endo/Onc/Uro                  716\n",
              "Rheum                         604\n",
              "Name: count, dtype: int64"
            ],
            "text/html": [
              "<div>\n",
              "<style scoped>\n",
              "    .dataframe tbody tr th:only-of-type {\n",
              "        vertical-align: middle;\n",
              "    }\n",
              "\n",
              "    .dataframe tbody tr th {\n",
              "        vertical-align: top;\n",
              "    }\n",
              "\n",
              "    .dataframe thead th {\n",
              "        text-align: right;\n",
              "    }\n",
              "</style>\n",
              "<table border=\"1\" class=\"dataframe\">\n",
              "  <thead>\n",
              "    <tr style=\"text-align: right;\">\n",
              "      <th></th>\n",
              "      <th>count</th>\n",
              "    </tr>\n",
              "    <tr>\n",
              "      <th>Ntm_Speciality_Bucket</th>\n",
              "      <th></th>\n",
              "    </tr>\n",
              "  </thead>\n",
              "  <tbody>\n",
              "    <tr>\n",
              "      <th>OB/GYN/Others/PCP/Unknown</th>\n",
              "      <td>2104</td>\n",
              "    </tr>\n",
              "    <tr>\n",
              "      <th>Endo/Onc/Uro</th>\n",
              "      <td>716</td>\n",
              "    </tr>\n",
              "    <tr>\n",
              "      <th>Rheum</th>\n",
              "      <td>604</td>\n",
              "    </tr>\n",
              "  </tbody>\n",
              "</table>\n",
              "</div><br><label><b>dtype:</b> int64</label>"
            ]
          },
          "metadata": {},
          "execution_count": 53
        }
      ]
    },
    {
      "cell_type": "code",
      "source": [
        "df.rename(columns={'Ptid':'PatientID'}, inplace=True)"
      ],
      "metadata": {
        "id": "EbvdzpkMvJ0j"
      },
      "execution_count": null,
      "outputs": []
    },
    {
      "cell_type": "code",
      "source": [
        "df.Ethnicity.unique()"
      ],
      "metadata": {
        "colab": {
          "base_uri": "https://localhost:8080/"
        },
        "id": "G5CrdDEm9kqW",
        "outputId": "f5477502-c084-4f62-9fd7-8584a64f516e"
      },
      "execution_count": null,
      "outputs": [
        {
          "output_type": "execute_result",
          "data": {
            "text/plain": [
              "array(['Not Hispanic', 'Hispanic', 'Unknown'], dtype=object)"
            ]
          },
          "metadata": {},
          "execution_count": 79
        }
      ]
    },
    {
      "cell_type": "code",
      "source": [
        "df.Ethnicity.value_counts()"
      ],
      "metadata": {
        "colab": {
          "base_uri": "https://localhost:8080/",
          "height": 210
        },
        "id": "eAvzxXBRA7kf",
        "outputId": "29621a0d-f532-400f-87b2-c35b5d8b3e60"
      },
      "execution_count": null,
      "outputs": [
        {
          "output_type": "execute_result",
          "data": {
            "text/plain": [
              "Ethnicity\n",
              "Not Hispanic    3235\n",
              "Hispanic          98\n",
              "Unknown           91\n",
              "Name: count, dtype: int64"
            ],
            "text/html": [
              "<div>\n",
              "<style scoped>\n",
              "    .dataframe tbody tr th:only-of-type {\n",
              "        vertical-align: middle;\n",
              "    }\n",
              "\n",
              "    .dataframe tbody tr th {\n",
              "        vertical-align: top;\n",
              "    }\n",
              "\n",
              "    .dataframe thead th {\n",
              "        text-align: right;\n",
              "    }\n",
              "</style>\n",
              "<table border=\"1\" class=\"dataframe\">\n",
              "  <thead>\n",
              "    <tr style=\"text-align: right;\">\n",
              "      <th></th>\n",
              "      <th>count</th>\n",
              "    </tr>\n",
              "    <tr>\n",
              "      <th>Ethnicity</th>\n",
              "      <th></th>\n",
              "    </tr>\n",
              "  </thead>\n",
              "  <tbody>\n",
              "    <tr>\n",
              "      <th>Not Hispanic</th>\n",
              "      <td>3235</td>\n",
              "    </tr>\n",
              "    <tr>\n",
              "      <th>Hispanic</th>\n",
              "      <td>98</td>\n",
              "    </tr>\n",
              "    <tr>\n",
              "      <th>Unknown</th>\n",
              "      <td>91</td>\n",
              "    </tr>\n",
              "  </tbody>\n",
              "</table>\n",
              "</div><br><label><b>dtype:</b> int64</label>"
            ]
          },
          "metadata": {},
          "execution_count": 77
        }
      ]
    },
    {
      "cell_type": "code",
      "source": [
        "df.Gender.unique()"
      ],
      "metadata": {
        "colab": {
          "base_uri": "https://localhost:8080/"
        },
        "id": "ffuu3IYq9yMc",
        "outputId": "a29b0328-cda4-446e-df56-c0537fe2ef75"
      },
      "execution_count": null,
      "outputs": [
        {
          "output_type": "execute_result",
          "data": {
            "text/plain": [
              "array(['Male', 'Female'], dtype=object)"
            ]
          },
          "metadata": {},
          "execution_count": 62
        }
      ]
    },
    {
      "cell_type": "code",
      "source": [
        "df.Region.unique()"
      ],
      "metadata": {
        "colab": {
          "base_uri": "https://localhost:8080/"
        },
        "id": "zDImOQIg-OWc",
        "outputId": "8246beaa-fd61-4a8f-838c-ea8a0c67d508"
      },
      "execution_count": null,
      "outputs": [
        {
          "output_type": "execute_result",
          "data": {
            "text/plain": [
              "array(['West', 'Midwest', 'South', 'Other/Unknown', 'Northeast'],\n",
              "      dtype=object)"
            ]
          },
          "metadata": {},
          "execution_count": 63
        }
      ]
    },
    {
      "cell_type": "code",
      "source": [
        "g = sns.countplot(data = df,\n",
        "                  x = df.Region);"
      ],
      "metadata": {
        "colab": {
          "base_uri": "https://localhost:8080/",
          "height": 449
        },
        "id": "BXlDkZL3_2Yp",
        "outputId": "e100f088-78e5-4c63-9ba0-b77ecf587b38"
      },
      "execution_count": null,
      "outputs": [
        {
          "output_type": "display_data",
          "data": {
            "text/plain": [
              "<Figure size 640x480 with 1 Axes>"
            ],
            "image/png": "[encoded data removed]"
          },
          "metadata": {}
        }
      ]
    },
    {
      "cell_type": "markdown",
      "source": [
        "Northeast and West seem to be severely underreported as compared to Midwest and South Region"
      ],
      "metadata": {
        "id": "rDDdOIUtI39a"
      }
    },
    {
      "cell_type": "code",
      "source": [
        "df.describe()"
      ],
      "metadata": {
        "colab": {
          "base_uri": "https://localhost:8080/",
          "height": 301
        },
        "id": "56q4WNKRB84N",
        "outputId": "9eb5502c-fbc5-4d3d-c416-2750cdd1a1f6"
      },
      "execution_count": null,
      "outputs": [
        {
          "output_type": "execute_result",
          "data": {
            "text/plain": [
              "       Dexa_Freq_During_Rx  Count_Of_Risks\n",
              "count          3424.000000          3424.0\n",
              "mean              3.016063        1.239486\n",
              "std               8.136545        1.094914\n",
              "min               0.000000             0.0\n",
              "25%               0.000000             0.0\n",
              "50%               0.000000             1.0\n",
              "75%               3.000000             2.0\n",
              "max             146.000000             7.0"
            ],
            "text/html": [
              "\n",
              "  <div id=\"df-27be6ccc-5c99-4508-81d2-9fae199bd57b\" class=\"colab-df-container\">\n",
              "    <div>\n",
              "<style scoped>\n",
              "    .dataframe tbody tr th:only-of-type {\n",
              "        vertical-align: middle;\n",
              "    }\n",
              "\n",
              "    .dataframe tbody tr th {\n",
              "        vertical-align: top;\n",
              "    }\n",
              "\n",
              "    .dataframe thead th {\n",
              "        text-align: right;\n",
              "    }\n",
              "</style>\n",
              "<table border=\"1\" class=\"dataframe\">\n",
              "  <thead>\n",
              "    <tr style=\"text-align: right;\">\n",
              "      <th></th>\n",
              "      <th>Dexa_Freq_During_Rx</th>\n",
              "      <th>Count_Of_Risks</th>\n",
              "    </tr>\n",
              "  </thead>\n",
              "  <tbody>\n",
              "    <tr>\n",
              "      <th>count</th>\n",
              "      <td>3424.000000</td>\n",
              "      <td>3424.0</td>\n",
              "    </tr>\n",
              "    <tr>\n",
              "      <th>mean</th>\n",
              "      <td>3.016063</td>\n",
              "      <td>1.239486</td>\n",
              "    </tr>\n",
              "    <tr>\n",
              "      <th>std</th>\n",
              "      <td>8.136545</td>\n",
              "      <td>1.094914</td>\n",
              "    </tr>\n",
              "    <tr>\n",
              "      <th>min</th>\n",
              "      <td>0.000000</td>\n",
              "      <td>0.0</td>\n",
              "    </tr>\n",
              "    <tr>\n",
              "      <th>25%</th>\n",
              "      <td>0.000000</td>\n",
              "      <td>0.0</td>\n",
              "    </tr>\n",
              "    <tr>\n",
              "      <th>50%</th>\n",
              "      <td>0.000000</td>\n",
              "      <td>1.0</td>\n",
              "    </tr>\n",
              "    <tr>\n",
              "      <th>75%</th>\n",
              "      <td>3.000000</td>\n",
              "      <td>2.0</td>\n",
              "    </tr>\n",
              "    <tr>\n",
              "      <th>max</th>\n",
              "      <td>146.000000</td>\n",
              "      <td>7.0</td>\n",
              "    </tr>\n",
              "  </tbody>\n",
              "</table>\n",
              "</div>\n",
              "    <div class=\"colab-df-buttons\">\n",
              "\n",
              "  <div class=\"colab-df-container\">\n",
              "    <button class=\"colab-df-convert\" onclick=\"convertToInteractive('df-27be6ccc-5c99-4508-81d2-9fae199bd57b')\"\n",
              "            title=\"Convert this dataframe to an interactive table.\"\n",
              "            style=\"display:none;\">\n",
              "\n",
              "  <svg xmlns=\"http://www.w3.org/2000/svg\" height=\"24px\" viewBox=\"0 -960 960 960\">\n",
              "    <path d=\"M120-120v-720h720v720H120Zm60-500h600v-160H180v160Zm220 220h160v-160H400v160Zm0 220h160v-160H400v160ZM180-400h160v-160H180v160Zm440 0h160v-160H620v160ZM180-180h160v-160H180v160Zm440 0h160v-160H620v160Z\"/>\n",
              "  </svg>\n",
              "    </button>\n",
              "\n",
              "  <style>\n",
              "    .colab-df-container {\n",
              "      display:flex;\n",
              "      gap: 12px;\n",
              "    }\n",
              "\n",
              "    .colab-df-convert {\n",
              "      background-color: #E8F0FE;\n",
              "      border: none;\n",
              "      border-radius: 50%;\n",
              "      cursor: pointer;\n",
              "      display: none;\n",
              "      fill: #1967D2;\n",
              "      height: 32px;\n",
              "      padding: 0 0 0 0;\n",
              "      width: 32px;\n",
              "    }\n",
              "\n",
              "    .colab-df-convert:hover {\n",
              "      background-color: #E2EBFA;\n",
              "      box-shadow: 0px 1px 2px rgba(60, 64, 67, 0.3), 0px 1px 3px 1px rgba(60, 64, 67, 0.15);\n",
              "      fill: #174EA6;\n",
              "    }\n",
              "\n",
              "    .colab-df-buttons div {\n",
              "      margin-bottom: 4px;\n",
              "    }\n",
              "\n",
              "    [theme=dark] .colab-df-convert {\n",
              "      background-color: #3B4455;\n",
              "      fill: #D2E3FC;\n",
              "    }\n",
              "\n",
              "    [theme=dark] .colab-df-convert:hover {\n",
              "      background-color: #434B5C;\n",
              "      box-shadow: 0px 1px 3px 1px rgba(0, 0, 0, 0.15);\n",
              "      filter: drop-shadow(0px 1px 2px rgba(0, 0, 0, 0.3));\n",
              "      fill: #FFFFFF;\n",
              "    }\n",
              "  </style>\n",
              "\n",
              "    <script>\n",
              "      const buttonEl =\n",
              "        document.querySelector('#df-27be6ccc-5c99-4508-81d2-9fae199bd57b button.colab-df-convert');\n",
              "      buttonEl.style.display =\n",
              "        google.colab.kernel.accessAllowed ? 'block' : 'none';\n",
              "\n",
              "      async function convertToInteractive(key) {\n",
              "        const element = document.querySelector('#df-27be6ccc-5c99-4508-81d2-9fae199bd57b');\n",
              "        const dataTable =\n",
              "          await google.colab.kernel.invokeFunction('convertToInteractive',\n",
              "                                                    [key], {});\n",
              "        if (!dataTable) return;\n",
              "\n",
              "        const docLinkHtml = 'Like what you see? Visit the ' +\n",
              "          '<a target=\"_blank\" href=https://colab.research.google.com/notebooks/data_table.ipynb>data table notebook</a>'\n",
              "          + ' to learn more about interactive tables.';\n",
              "        element.innerHTML = '';\n",
              "        dataTable['output_type'] = 'display_data';\n",
              "        await google.colab.output.renderOutput(dataTable, element);\n",
              "        const docLink = document.createElement('div');\n",
              "        docLink.innerHTML = docLinkHtml;\n",
              "        element.appendChild(docLink);\n",
              "      }\n",
              "    </script>\n",
              "  </div>\n",
              "\n",
              "\n",
              "<div id=\"df-c766f43c-064a-4ad8-a50f-c6f964020883\">\n",
              "  <button class=\"colab-df-quickchart\" onclick=\"quickchart('df-c766f43c-064a-4ad8-a50f-c6f964020883')\"\n",
              "            title=\"Suggest charts\"\n",
              "            style=\"display:none;\">\n",
              "\n",
              "<svg xmlns=\"http://www.w3.org/2000/svg\" height=\"24px\"viewBox=\"0 0 24 24\"\n",
              "     width=\"24px\">\n",
              "    <g>\n",
              "        <path d=\"M19 3H5c-1.1 0-2 .9-2 2v14c0 1.1.9 2 2 2h14c1.1 0 2-.9 2-2V5c0-1.1-.9-2-2-2zM9 17H7v-7h2v7zm4 0h-2V7h2v10zm4 0h-2v-4h2v4z\"/>\n",
              "    </g>\n",
              "</svg>\n",
              "  </button>\n",
              "\n",
              "<style>\n",
              "  .colab-df-quickchart {\n",
              "      --bg-color: #E8F0FE;\n",
              "      --fill-color: #1967D2;\n",
              "      --hover-bg-color: #E2EBFA;\n",
              "      --hover-fill-color: #174EA6;\n",
              "      --disabled-fill-color: #AAA;\n",
              "      --disabled-bg-color: #DDD;\n",
              "  }\n",
              "\n",
              "  [theme=dark] .colab-df-quickchart {\n",
              "      --bg-color: #3B4455;\n",
              "      --fill-color: #D2E3FC;\n",
              "      --hover-bg-color: #434B5C;\n",
              "      --hover-fill-color: #FFFFFF;\n",
              "      --disabled-bg-color: #3B4455;\n",
              "      --disabled-fill-color: #666;\n",
              "  }\n",
              "\n",
              "  .colab-df-quickchart {\n",
              "    background-color: var(--bg-color);\n",
              "    border: none;\n",
              "    border-radius: 50%;\n",
              "    cursor: pointer;\n",
              "    display: none;\n",
              "    fill: var(--fill-color);\n",
              "    height: 32px;\n",
              "    padding: 0;\n",
              "    width: 32px;\n",
              "  }\n",
              "\n",
              "  .colab-df-quickchart:hover {\n",
              "    background-color: var(--hover-bg-color);\n",
              "    box-shadow: 0 1px 2px rgba(60, 64, 67, 0.3), 0 1px 3px 1px rgba(60, 64, 67, 0.15);\n",
              "    fill: var(--button-hover-fill-color);\n",
              "  }\n",
              "\n",
              "  .colab-df-quickchart-complete:disabled,\n",
              "  .colab-df-quickchart-complete:disabled:hover {\n",
              "    background-color: var(--disabled-bg-color);\n",
              "    fill: var(--disabled-fill-color);\n",
              "    box-shadow: none;\n",
              "  }\n",
              "\n",
              "  .colab-df-spinner {\n",
              "    border: 2px solid var(--fill-color);\n",
              "    border-color: transparent;\n",
              "    border-bottom-color: var(--fill-color);\n",
              "    animation:\n",
              "      spin 1s steps(1) infinite;\n",
              "  }\n",
              "\n",
              "  @keyframes spin {\n",
              "    0% {\n",
              "      border-color: transparent;\n",
              "      border-bottom-color: var(--fill-color);\n",
              "      border-left-color: var(--fill-color);\n",
              "    }\n",
              "    20% {\n",
              "      border-color: transparent;\n",
              "      border-left-color: var(--fill-color);\n",
              "      border-top-color: var(--fill-color);\n",
              "    }\n",
              "    30% {\n",
              "      border-color: transparent;\n",
              "      border-left-color: var(--fill-color);\n",
              "      border-top-color: var(--fill-color);\n",
              "      border-right-color: var(--fill-color);\n",
              "    }\n",
              "    40% {\n",
              "      border-color: transparent;\n",
              "      border-right-color: var(--fill-color);\n",
              "      border-top-color: var(--fill-color);\n",
              "    }\n",
              "    60% {\n",
              "      border-color: transparent;\n",
              "      border-right-color: var(--fill-color);\n",
              "    }\n",
              "    80% {\n",
              "      border-color: transparent;\n",
              "      border-right-color: var(--fill-color);\n",
              "      border-bottom-color: var(--fill-color);\n",
              "    }\n",
              "    90% {\n",
              "      border-color: transparent;\n",
              "      border-bottom-color: var(--fill-color);\n",
              "    }\n",
              "  }\n",
              "</style>\n",
              "\n",
              "  <script>\n",
              "    async function quickchart(key) {\n",
              "      const quickchartButtonEl =\n",
              "        document.querySelector('#' + key + ' button');\n",
              "      quickchartButtonEl.disabled = true;  // To prevent multiple clicks.\n",
              "      quickchartButtonEl.classList.add('colab-df-spinner');\n",
              "      try {\n",
              "        const charts = await google.colab.kernel.invokeFunction(\n",
              "            'suggestCharts', [key], {});\n",
              "      } catch (error) {\n",
              "        console.error('Error during call to suggestCharts:', error);\n",
              "      }\n",
              "      quickchartButtonEl.classList.remove('colab-df-spinner');\n",
              "      quickchartButtonEl.classList.add('colab-df-quickchart-complete');\n",
              "    }\n",
              "    (() => {\n",
              "      let quickchartButtonEl =\n",
              "        document.querySelector('#df-c766f43c-064a-4ad8-a50f-c6f964020883 button');\n",
              "      quickchartButtonEl.style.display =\n",
              "        google.colab.kernel.accessAllowed ? 'block' : 'none';\n",
              "    })();\n",
              "  </script>\n",
              "</div>\n",
              "\n",
              "    </div>\n",
              "  </div>\n"
            ],
            "application/vnd.google.colaboratory.intrinsic+json": {
              "type": "dataframe",
              "summary": "{\n  \"name\": \"df\",\n  \"rows\": 8,\n  \"fields\": [\n    {\n      \"column\": \"Dexa_Freq_During_Rx\",\n      \"properties\": {\n        \"dtype\": \"number\",\n        \"std\": 1203.5309694069226,\n        \"min\": 0.0,\n        \"max\": 3424.0,\n        \"num_unique_values\": 6,\n        \"samples\": [\n          3424.0,\n          3.0160630841121496,\n          146.0\n        ],\n        \"semantic_type\": \"\",\n        \"description\": \"\"\n      }\n    },\n    {\n      \"column\": \"Count_Of_Risks\",\n      \"properties\": {\n        \"dtype\": \"Float64\",\n        \"num_unique_values\": 7,\n        \"samples\": [\n          3424.0,\n          1.2394859813084111,\n          2.0\n        ],\n        \"semantic_type\": \"\",\n        \"description\": \"\"\n      }\n    }\n  ]\n}"
            }
          },
          "metadata": {},
          "execution_count": 83
        }
      ]
    },
    {
      "cell_type": "code",
      "source": [
        "g = sns.countplot(data = df,\n",
        "                  x = df.Tscore_Bucket_During_Rx,\n",
        "                  order=['>-2.5', '<=-2.5', 'Unknown'])\n",
        "g"
      ],
      "metadata": {
        "colab": {
          "base_uri": "https://localhost:8080/",
          "height": 467
        },
        "id": "k8f5RLHkCgEB",
        "outputId": "bee76c84-02d9-4afd-bd64-f3cb331e38fc"
      },
      "execution_count": null,
      "outputs": [
        {
          "output_type": "execute_result",
          "data": {
            "text/plain": [
              "<Axes: xlabel='Tscore_Bucket_During_Rx', ylabel='count'>"
            ]
          },
          "metadata": {},
          "execution_count": 97
        },
        {
          "output_type": "display_data",
          "data": {
            "text/plain": [
              "<Figure size 640x480 with 1 Axes>"
            ],
            "image/png": "[encoded data removed]"
          },
          "metadata": {}
        }
      ]
    },
    {
      "cell_type": "code",
      "source": [
        "g = sns.countplot(data = df,\n",
        "                  x = df.Tscore_Bucket_Prior_Ntm,\n",
        "                  order=['>-2.5', '<=-2.5'])\n",
        "g;"
      ],
      "metadata": {
        "colab": {
          "base_uri": "https://localhost:8080/",
          "height": 450
        },
        "id": "tNJH4usRDdvu",
        "outputId": "9622882b-2b7e-463b-f758-044d0eb7e203"
      },
      "execution_count": null,
      "outputs": [
        {
          "output_type": "display_data",
          "data": {
            "text/plain": [
              "<Figure size 640x480 with 1 Axes>"
            ],
            "image/png": "[encoded data removed]"
          },
          "metadata": {}
        }
      ]
    },
    {
      "cell_type": "code",
      "source": [
        "df.Change_T_Score.unique()"
      ],
      "metadata": {
        "colab": {
          "base_uri": "https://localhost:8080/"
        },
        "id": "a8gYBKNhD8Ft",
        "outputId": "b07c6fcd-b452-4f56-933e-31db81d54d84"
      },
      "execution_count": null,
      "outputs": [
        {
          "output_type": "execute_result",
          "data": {
            "text/plain": [
              "array(['No change', 'Unknown', 'Worsened', 'Improved'], dtype=object)"
            ]
          },
          "metadata": {},
          "execution_count": 103
        }
      ]
    },
    {
      "cell_type": "code",
      "source": [
        "g = sns.countplot(data = df,\n",
        "                  x = df.Change_T_Score,\n",
        "                  );\n",
        "g"
      ],
      "metadata": {
        "colab": {
          "base_uri": "https://localhost:8080/",
          "height": 467
        },
        "id": "-xP96i2QFgRU",
        "outputId": "faa9f1a2-4dde-4bc9-b374-20568a457c3f"
      },
      "execution_count": null,
      "outputs": [
        {
          "output_type": "execute_result",
          "data": {
            "text/plain": [
              "<Axes: xlabel='Change_T_Score', ylabel='count'>"
            ]
          },
          "metadata": {},
          "execution_count": 104
        },
        {
          "output_type": "display_data",
          "data": {
            "text/plain": [
              "<Figure size 640x480 with 1 Axes>"
            ],
            "image/png": "[encoded data removed]"
          },
          "metadata": {}
        }
      ]
    },
    {
      "cell_type": "code",
      "source": [
        "g = sns.countplot(data = df,\n",
        "                  x = df.Change_Risk_Segment,\n",
        "                  );\n",
        "g"
      ],
      "metadata": {
        "colab": {
          "base_uri": "https://localhost:8080/",
          "height": 467
        },
        "id": "emN8ApMvFpq0",
        "outputId": "53f5a3ad-c244-4fd4-bfac-9e64fbf60e85"
      },
      "execution_count": null,
      "outputs": [
        {
          "output_type": "execute_result",
          "data": {
            "text/plain": [
              "<Axes: xlabel='Change_Risk_Segment', ylabel='count'>"
            ]
          },
          "metadata": {},
          "execution_count": 105
        },
        {
          "output_type": "display_data",
          "data": {
            "text/plain": [
              "<Figure size 640x480 with 1 Axes>"
            ],
            "image/png": "[encoded data removed]"
          },
          "metadata": {}
        }
      ]
    },
    {
      "cell_type": "markdown",
      "source": [
        "We can see that typically there is no change. Worsened more than improved in terms of change risk segment."
      ],
      "metadata": {
        "id": "4FytJtNeIxcR"
      }
    }
  ]
}